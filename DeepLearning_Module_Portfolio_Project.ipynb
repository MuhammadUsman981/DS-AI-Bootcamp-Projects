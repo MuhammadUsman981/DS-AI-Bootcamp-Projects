{
  "nbformat": 4,
  "nbformat_minor": 0,
  "metadata": {
    "colab": {
      "provenance": [],
      "gpuType": "T4"
    },
    "kernelspec": {
      "name": "python3",
      "display_name": "Python 3"
    },
    "language_info": {
      "name": "python"
    },
    "accelerator": "GPU"
  },
  "cells": [
    {
      "cell_type": "markdown",
      "source": [
        "# Step: 1\n",
        "## Importing all the necessary libraries."
      ],
      "metadata": {
        "id": "mbG5R_GRE245"
      }
    },
    {
      "cell_type": "code",
      "source": [
        "#  General-Purpose Libraries\n",
        "import numpy as np  # For numerical operations\n",
        "import pandas as pd  # (if used for data loading/manipulation)\n",
        "import matplotlib.pyplot as plt  # For plotting curves and charts\n",
        "import seaborn as sns  # For heatmaps and styled visualizations\n",
        "\n",
        "#  Deep Learning with TensorFlow/Keras\n",
        "import tensorflow as tf  # Main deep learning framework\n",
        "from tensorflow.keras.models import Sequential  # For building the model as a stack of layers\n",
        "from tensorflow.keras.layers import Dense, Dropout, LayerNormalization, LeakyReLU  # Core building blocks of the network\n",
        "from tensorflow.keras.activations import swish  # Activation function used in hidden layers\n",
        "from tensorflow.keras.optimizers import Adam  # Optimizer used during training\n",
        "from tensorflow.keras.initializers import HeNormal  # Weight initializer suited for ReLU/LeakyReLU\n",
        "from tensorflow.keras.regularizers import l2  # Weight regularization to reduce overfitting\n",
        "from tensorflow.keras.callbacks import EarlyStopping, ReduceLROnPlateau  # To control training flow and learning rate\n",
        "\n",
        "#  Model Evaluation (Scikit-learn)\n",
        "from sklearn.metrics import (\n",
        "    classification_report,  # Text summary of precision, recall, F1\n",
        "    confusion_matrix,       # Matrix comparing predictions with true labels\n",
        "    roc_curve,              # Receiver Operating Characteristic curve\n",
        "    auc                     # Area Under Curve — model performance metric\n",
        ")"
      ],
      "metadata": {
        "id": "QZdyBRm_tcPe"
      },
      "execution_count": null,
      "outputs": []
    },
    {
      "cell_type": "code",
      "source": [
        "!pip install kaggle"
      ],
      "metadata": {
        "colab": {
          "base_uri": "https://localhost:8080/"
        },
        "id": "Xuqg1HAlHRGY",
        "outputId": "81703a11-2d42-49e3-8217-24d74cc17ee0"
      },
      "execution_count": 6,
      "outputs": [
        {
          "output_type": "stream",
          "name": "stdout",
          "text": [
            "Requirement already satisfied: kaggle in /usr/local/lib/python3.11/dist-packages (1.7.4.5)\n",
            "Requirement already satisfied: bleach in /usr/local/lib/python3.11/dist-packages (from kaggle) (6.2.0)\n",
            "Requirement already satisfied: certifi>=14.05.14 in /usr/local/lib/python3.11/dist-packages (from kaggle) (2025.6.15)\n",
            "Requirement already satisfied: charset-normalizer in /usr/local/lib/python3.11/dist-packages (from kaggle) (3.4.2)\n",
            "Requirement already satisfied: idna in /usr/local/lib/python3.11/dist-packages (from kaggle) (3.10)\n",
            "Requirement already satisfied: protobuf in /usr/local/lib/python3.11/dist-packages (from kaggle) (5.29.5)\n",
            "Requirement already satisfied: python-dateutil>=2.5.3 in /usr/local/lib/python3.11/dist-packages (from kaggle) (2.9.0.post0)\n",
            "Requirement already satisfied: python-slugify in /usr/local/lib/python3.11/dist-packages (from kaggle) (8.0.4)\n",
            "Requirement already satisfied: requests in /usr/local/lib/python3.11/dist-packages (from kaggle) (2.32.3)\n",
            "Requirement already satisfied: setuptools>=21.0.0 in /usr/local/lib/python3.11/dist-packages (from kaggle) (75.2.0)\n",
            "Requirement already satisfied: six>=1.10 in /usr/local/lib/python3.11/dist-packages (from kaggle) (1.17.0)\n",
            "Requirement already satisfied: text-unidecode in /usr/local/lib/python3.11/dist-packages (from kaggle) (1.3)\n",
            "Requirement already satisfied: tqdm in /usr/local/lib/python3.11/dist-packages (from kaggle) (4.67.1)\n",
            "Requirement already satisfied: urllib3>=1.15.1 in /usr/local/lib/python3.11/dist-packages (from kaggle) (2.4.0)\n",
            "Requirement already satisfied: webencodings in /usr/local/lib/python3.11/dist-packages (from kaggle) (0.5.1)\n"
          ]
        }
      ]
    },
    {
      "cell_type": "markdown",
      "source": [
        "## Downloading the dataset from web."
      ],
      "metadata": {
        "id": "sTVveIWKGA8k"
      }
    },
    {
      "cell_type": "code",
      "source": [
        "from google.colab import files\n",
        "files.upload()"
      ],
      "metadata": {
        "colab": {
          "base_uri": "https://localhost:8080/",
          "height": 92
        },
        "id": "mJ05BwauGfHC",
        "outputId": "0502a4e1-a306-4695-f458-e207e276c38d"
      },
      "execution_count": 7,
      "outputs": [
        {
          "output_type": "display_data",
          "data": {
            "text/plain": [
              "<IPython.core.display.HTML object>"
            ],
            "text/html": [
              "\n",
              "     <input type=\"file\" id=\"files-cffffb8a-45dd-4827-9059-50f91d38f659\" name=\"files[]\" multiple disabled\n",
              "        style=\"border:none\" />\n",
              "     <output id=\"result-cffffb8a-45dd-4827-9059-50f91d38f659\">\n",
              "      Upload widget is only available when the cell has been executed in the\n",
              "      current browser session. Please rerun this cell to enable.\n",
              "      </output>\n",
              "      <script>// Copyright 2017 Google LLC\n",
              "//\n",
              "// Licensed under the Apache License, Version 2.0 (the \"License\");\n",
              "// you may not use this file except in compliance with the License.\n",
              "// You may obtain a copy of the License at\n",
              "//\n",
              "//      http://www.apache.org/licenses/LICENSE-2.0\n",
              "//\n",
              "// Unless required by applicable law or agreed to in writing, software\n",
              "// distributed under the License is distributed on an \"AS IS\" BASIS,\n",
              "// WITHOUT WARRANTIES OR CONDITIONS OF ANY KIND, either express or implied.\n",
              "// See the License for the specific language governing permissions and\n",
              "// limitations under the License.\n",
              "\n",
              "/**\n",
              " * @fileoverview Helpers for google.colab Python module.\n",
              " */\n",
              "(function(scope) {\n",
              "function span(text, styleAttributes = {}) {\n",
              "  const element = document.createElement('span');\n",
              "  element.textContent = text;\n",
              "  for (const key of Object.keys(styleAttributes)) {\n",
              "    element.style[key] = styleAttributes[key];\n",
              "  }\n",
              "  return element;\n",
              "}\n",
              "\n",
              "// Max number of bytes which will be uploaded at a time.\n",
              "const MAX_PAYLOAD_SIZE = 100 * 1024;\n",
              "\n",
              "function _uploadFiles(inputId, outputId) {\n",
              "  const steps = uploadFilesStep(inputId, outputId);\n",
              "  const outputElement = document.getElementById(outputId);\n",
              "  // Cache steps on the outputElement to make it available for the next call\n",
              "  // to uploadFilesContinue from Python.\n",
              "  outputElement.steps = steps;\n",
              "\n",
              "  return _uploadFilesContinue(outputId);\n",
              "}\n",
              "\n",
              "// This is roughly an async generator (not supported in the browser yet),\n",
              "// where there are multiple asynchronous steps and the Python side is going\n",
              "// to poll for completion of each step.\n",
              "// This uses a Promise to block the python side on completion of each step,\n",
              "// then passes the result of the previous step as the input to the next step.\n",
              "function _uploadFilesContinue(outputId) {\n",
              "  const outputElement = document.getElementById(outputId);\n",
              "  const steps = outputElement.steps;\n",
              "\n",
              "  const next = steps.next(outputElement.lastPromiseValue);\n",
              "  return Promise.resolve(next.value.promise).then((value) => {\n",
              "    // Cache the last promise value to make it available to the next\n",
              "    // step of the generator.\n",
              "    outputElement.lastPromiseValue = value;\n",
              "    return next.value.response;\n",
              "  });\n",
              "}\n",
              "\n",
              "/**\n",
              " * Generator function which is called between each async step of the upload\n",
              " * process.\n",
              " * @param {string} inputId Element ID of the input file picker element.\n",
              " * @param {string} outputId Element ID of the output display.\n",
              " * @return {!Iterable<!Object>} Iterable of next steps.\n",
              " */\n",
              "function* uploadFilesStep(inputId, outputId) {\n",
              "  const inputElement = document.getElementById(inputId);\n",
              "  inputElement.disabled = false;\n",
              "\n",
              "  const outputElement = document.getElementById(outputId);\n",
              "  outputElement.innerHTML = '';\n",
              "\n",
              "  const pickedPromise = new Promise((resolve) => {\n",
              "    inputElement.addEventListener('change', (e) => {\n",
              "      resolve(e.target.files);\n",
              "    });\n",
              "  });\n",
              "\n",
              "  const cancel = document.createElement('button');\n",
              "  inputElement.parentElement.appendChild(cancel);\n",
              "  cancel.textContent = 'Cancel upload';\n",
              "  const cancelPromise = new Promise((resolve) => {\n",
              "    cancel.onclick = () => {\n",
              "      resolve(null);\n",
              "    };\n",
              "  });\n",
              "\n",
              "  // Wait for the user to pick the files.\n",
              "  const files = yield {\n",
              "    promise: Promise.race([pickedPromise, cancelPromise]),\n",
              "    response: {\n",
              "      action: 'starting',\n",
              "    }\n",
              "  };\n",
              "\n",
              "  cancel.remove();\n",
              "\n",
              "  // Disable the input element since further picks are not allowed.\n",
              "  inputElement.disabled = true;\n",
              "\n",
              "  if (!files) {\n",
              "    return {\n",
              "      response: {\n",
              "        action: 'complete',\n",
              "      }\n",
              "    };\n",
              "  }\n",
              "\n",
              "  for (const file of files) {\n",
              "    const li = document.createElement('li');\n",
              "    li.append(span(file.name, {fontWeight: 'bold'}));\n",
              "    li.append(span(\n",
              "        `(${file.type || 'n/a'}) - ${file.size} bytes, ` +\n",
              "        `last modified: ${\n",
              "            file.lastModifiedDate ? file.lastModifiedDate.toLocaleDateString() :\n",
              "                                    'n/a'} - `));\n",
              "    const percent = span('0% done');\n",
              "    li.appendChild(percent);\n",
              "\n",
              "    outputElement.appendChild(li);\n",
              "\n",
              "    const fileDataPromise = new Promise((resolve) => {\n",
              "      const reader = new FileReader();\n",
              "      reader.onload = (e) => {\n",
              "        resolve(e.target.result);\n",
              "      };\n",
              "      reader.readAsArrayBuffer(file);\n",
              "    });\n",
              "    // Wait for the data to be ready.\n",
              "    let fileData = yield {\n",
              "      promise: fileDataPromise,\n",
              "      response: {\n",
              "        action: 'continue',\n",
              "      }\n",
              "    };\n",
              "\n",
              "    // Use a chunked sending to avoid message size limits. See b/62115660.\n",
              "    let position = 0;\n",
              "    do {\n",
              "      const length = Math.min(fileData.byteLength - position, MAX_PAYLOAD_SIZE);\n",
              "      const chunk = new Uint8Array(fileData, position, length);\n",
              "      position += length;\n",
              "\n",
              "      const base64 = btoa(String.fromCharCode.apply(null, chunk));\n",
              "      yield {\n",
              "        response: {\n",
              "          action: 'append',\n",
              "          file: file.name,\n",
              "          data: base64,\n",
              "        },\n",
              "      };\n",
              "\n",
              "      let percentDone = fileData.byteLength === 0 ?\n",
              "          100 :\n",
              "          Math.round((position / fileData.byteLength) * 100);\n",
              "      percent.textContent = `${percentDone}% done`;\n",
              "\n",
              "    } while (position < fileData.byteLength);\n",
              "  }\n",
              "\n",
              "  // All done.\n",
              "  yield {\n",
              "    response: {\n",
              "      action: 'complete',\n",
              "    }\n",
              "  };\n",
              "}\n",
              "\n",
              "scope.google = scope.google || {};\n",
              "scope.google.colab = scope.google.colab || {};\n",
              "scope.google.colab._files = {\n",
              "  _uploadFiles,\n",
              "  _uploadFilesContinue,\n",
              "};\n",
              "})(self);\n",
              "</script> "
            ]
          },
          "metadata": {}
        },
        {
          "output_type": "stream",
          "name": "stdout",
          "text": [
            "Saving kaggle.json to kaggle.json\n"
          ]
        },
        {
          "output_type": "execute_result",
          "data": {
            "text/plain": [
              "{'kaggle.json': b'{\"username\":\"usman63\",\"key\":\"21db5e69f55640eb45c34705deff9852\"}'}"
            ]
          },
          "metadata": {},
          "execution_count": 7
        }
      ]
    },
    {
      "cell_type": "code",
      "source": [
        "!mkdir -p ~/.kaggle"
      ],
      "metadata": {
        "id": "9sJUbn4MIUeC"
      },
      "execution_count": 8,
      "outputs": []
    },
    {
      "cell_type": "code",
      "source": [
        "!mv kaggle.json ~/.kaggle/"
      ],
      "metadata": {
        "id": "Z7idqCpKIWyb"
      },
      "execution_count": 9,
      "outputs": []
    },
    {
      "cell_type": "code",
      "source": [
        "!chmod 600 ~/.kaggle/kaggle.json"
      ],
      "metadata": {
        "id": "T9Gvhky5IZ7N"
      },
      "execution_count": 10,
      "outputs": []
    },
    {
      "cell_type": "code",
      "source": [
        "!ls ~/.kaggle"
      ],
      "metadata": {
        "colab": {
          "base_uri": "https://localhost:8080/"
        },
        "id": "Ydb6exLMIeV9",
        "outputId": "c43a23ac-d743-4d62-f56f-ff63f25d62e1"
      },
      "execution_count": 11,
      "outputs": [
        {
          "output_type": "stream",
          "name": "stdout",
          "text": [
            "kaggle.json\n"
          ]
        }
      ]
    },
    {
      "cell_type": "code",
      "source": [
        "!kaggle competitions download -c higgs-boson"
      ],
      "metadata": {
        "colab": {
          "base_uri": "https://localhost:8080/"
        },
        "id": "Dr0P8sOqIj_l",
        "outputId": "d6e034a0-41a9-4cbc-8d50-98ee942389e2"
      },
      "execution_count": 12,
      "outputs": [
        {
          "output_type": "stream",
          "name": "stdout",
          "text": [
            "Downloading higgs-boson.zip to /content\n",
            "\r  0% 0.00/54.3M [00:00<?, ?B/s]\n",
            "\r100% 54.3M/54.3M [00:00<00:00, 1.34GB/s]\n"
          ]
        }
      ]
    },
    {
      "cell_type": "code",
      "source": [
        "!unzip higgs-boson.zip -d higgs_boson_data"
      ],
      "metadata": {
        "colab": {
          "base_uri": "https://localhost:8080/"
        },
        "id": "nneTfwjbImW9",
        "outputId": "648772a9-b9b1-4778-899f-33e3a460d2bd"
      },
      "execution_count": 13,
      "outputs": [
        {
          "output_type": "stream",
          "name": "stdout",
          "text": [
            "Archive:  higgs-boson.zip\n",
            "  inflating: higgs_boson_data/HiggsBosonCompetition_AMSMetric_rev1.py  \n",
            "  inflating: higgs_boson_data/random_submission.zip  \n",
            "  inflating: higgs_boson_data/test.zip  \n",
            "  inflating: higgs_boson_data/training.zip  \n"
          ]
        }
      ]
    },
    {
      "cell_type": "code",
      "source": [
        "!unzip higgs_boson_data/training.zip -d higgs_boson_data/"
      ],
      "metadata": {
        "colab": {
          "base_uri": "https://localhost:8080/"
        },
        "id": "CL1qlzj5JJDo",
        "outputId": "2d229c81-e09e-4ad9-edff-31ebbb52d4f5"
      },
      "execution_count": 14,
      "outputs": [
        {
          "output_type": "stream",
          "name": "stdout",
          "text": [
            "Archive:  higgs_boson_data/training.zip\n",
            "  inflating: higgs_boson_data/training.csv  \n"
          ]
        }
      ]
    },
    {
      "cell_type": "code",
      "source": [
        "!unzip higgs_boson_data/test.zip -d higgs_boson_data/"
      ],
      "metadata": {
        "colab": {
          "base_uri": "https://localhost:8080/"
        },
        "id": "N18JQQluKcv9",
        "outputId": "0b55c49a-2dfb-48ee-fea2-bdb554bcdd01"
      },
      "execution_count": 15,
      "outputs": [
        {
          "output_type": "stream",
          "name": "stdout",
          "text": [
            "Archive:  higgs_boson_data/test.zip\n",
            "  inflating: higgs_boson_data/test.csv  \n"
          ]
        }
      ]
    },
    {
      "cell_type": "markdown",
      "source": [
        "# Step:2 Loading the Dataset"
      ],
      "metadata": {
        "id": "E1kY9v5orpUp"
      }
    },
    {
      "cell_type": "code",
      "source": [
        "train_data = pd.read_csv(\"higgs_boson_data/training.csv\")\n",
        "test_data = pd.read_csv(\"higgs_boson_data/test.csv\")\n",
        "\n",
        "print(train_data.head())"
      ],
      "metadata": {
        "colab": {
          "base_uri": "https://localhost:8080/"
        },
        "id": "IUF3QD9LIov7",
        "outputId": "3429db29-b913-4a9a-d864-b5f404b25823"
      },
      "execution_count": 17,
      "outputs": [
        {
          "output_type": "stream",
          "name": "stdout",
          "text": [
            "   EventId  DER_mass_MMC  DER_mass_transverse_met_lep  DER_mass_vis  DER_pt_h  \\\n",
            "0   100000       138.470                       51.655        97.827    27.980   \n",
            "1   100001       160.937                       68.768       103.235    48.146   \n",
            "2   100002      -999.000                      162.172       125.953    35.635   \n",
            "3   100003       143.905                       81.417        80.943     0.414   \n",
            "4   100004       175.864                       16.915       134.805    16.405   \n",
            "\n",
            "   DER_deltaeta_jet_jet  DER_mass_jet_jet  DER_prodeta_jet_jet  \\\n",
            "0                  0.91           124.711                2.666   \n",
            "1               -999.00          -999.000             -999.000   \n",
            "2               -999.00          -999.000             -999.000   \n",
            "3               -999.00          -999.000             -999.000   \n",
            "4               -999.00          -999.000             -999.000   \n",
            "\n",
            "   DER_deltar_tau_lep  DER_pt_tot  ...  PRI_jet_num  PRI_jet_leading_pt  \\\n",
            "0               3.064      41.928  ...            2              67.435   \n",
            "1               3.473       2.078  ...            1              46.226   \n",
            "2               3.148       9.336  ...            1              44.251   \n",
            "3               3.310       0.414  ...            0            -999.000   \n",
            "4               3.891      16.405  ...            0            -999.000   \n",
            "\n",
            "   PRI_jet_leading_eta  PRI_jet_leading_phi  PRI_jet_subleading_pt  \\\n",
            "0                2.150                0.444                 46.062   \n",
            "1                0.725                1.158               -999.000   \n",
            "2                2.053               -2.028               -999.000   \n",
            "3             -999.000             -999.000               -999.000   \n",
            "4             -999.000             -999.000               -999.000   \n",
            "\n",
            "   PRI_jet_subleading_eta  PRI_jet_subleading_phi  PRI_jet_all_pt    Weight  \\\n",
            "0                    1.24                  -2.475         113.497  0.002653   \n",
            "1                 -999.00                -999.000          46.226  2.233584   \n",
            "2                 -999.00                -999.000          44.251  2.347389   \n",
            "3                 -999.00                -999.000          -0.000  5.446378   \n",
            "4                 -999.00                -999.000           0.000  6.245333   \n",
            "\n",
            "   Label  \n",
            "0      s  \n",
            "1      b  \n",
            "2      b  \n",
            "3      b  \n",
            "4      b  \n",
            "\n",
            "[5 rows x 33 columns]\n"
          ]
        }
      ]
    },
    {
      "cell_type": "markdown",
      "source": [
        "# Step: 3 Exploratory Data Analysis."
      ],
      "metadata": {
        "id": "6QoocQjsMBnz"
      }
    },
    {
      "cell_type": "code",
      "source": [
        "# Check the number of rows and columns in the dataset\n",
        "print(\"Training Data Shape:\", train_data.shape)\n",
        "print(\"Test Data Shape:\", test_data.shape)\n",
        "\n",
        "# Display the first few rows\n",
        "print(train_data.head())\n",
        "print(test_data.head())"
      ],
      "metadata": {
        "colab": {
          "base_uri": "https://localhost:8080/"
        },
        "id": "O6EaJHqwKsAD",
        "outputId": "01558bce-f5d8-442e-ee65-e1b5528b00a7"
      },
      "execution_count": 50,
      "outputs": [
        {
          "output_type": "stream",
          "name": "stdout",
          "text": [
            "Training Data Shape: (250000, 25)\n",
            "Test Data Shape: (550000, 24)\n",
            "    EventId  DER_mass_MMC  DER_mass_transverse_met_lep  DER_mass_vis  \\\n",
            "0 -1.732044      0.314911                     0.068332      0.407680   \n",
            "1 -1.732030      0.740827                     0.552505      0.540136   \n",
            "2 -1.732016      0.000000                     3.195156      1.096560   \n",
            "3 -1.732002      0.417944                     0.910379     -0.005853   \n",
            "4 -1.731988      1.023804                    -0.914556      1.313369   \n",
            "\n",
            "   DER_pt_h  DER_deltar_tau_lep  DER_pt_tot  DER_sum_pt  DER_pt_ratio_lep_tau  \\\n",
            "0 -0.469966            0.882478    1.033099    0.339894              0.170929   \n",
            "1 -0.153167            1.404888   -0.756027   -0.287584             -0.661279   \n",
            "2 -0.349710            0.989770   -0.430168    0.340361              2.768174   \n",
            "3 -0.903016            1.196690   -0.830735   -0.712705              1.084818   \n",
            "4 -0.651804            1.938794   -0.112795   -0.868143             -0.451747   \n",
            "\n",
            "   DER_met_phi_centrality  ...  PRI_lep_phi   PRI_met  PRI_met_phi  \\\n",
            "0                1.277084  ...    -1.352820 -0.756757    -0.147267   \n",
            "1                1.292164  ...     0.032730  0.090798    -1.051683   \n",
            "2                1.292164  ...     0.555132  0.382001    -1.200672   \n",
            "3               -0.969095  ...    -1.730447 -0.323312     0.038692   \n",
            "4               -1.052877  ...     0.839728 -1.185429    -0.475042   \n",
            "\n",
            "   PRI_met_sumet  PRI_jet_num  PRI_jet_leading_pt  PRI_jet_leading_eta  \\\n",
            "0       0.386847     1.044402           -0.369921         1.557298e+00   \n",
            "1      -0.357719     0.021305           -0.821154         5.267049e-01   \n",
            "2       0.400135     0.021305           -0.863173         1.487145e+00   \n",
            "3      -0.978149    -1.001792            0.000000         1.003673e-17   \n",
            "4      -1.238475    -1.001792            0.000000         1.003673e-17   \n",
            "\n",
            "   PRI_jet_leading_phi  PRI_jet_all_pt  Label  \n",
            "0         3.248244e-01        0.412510      1  \n",
            "1         8.329932e-01       -0.273820      0  \n",
            "2        -1.434550e+00       -0.293970      0  \n",
            "3         1.111175e-17       -0.745439      0  \n",
            "4         1.111175e-17       -0.745439      0  \n",
            "\n",
            "[5 rows x 25 columns]\n",
            "    EventId  DER_mass_MMC  DER_mass_transverse_met_lep  DER_mass_vis  \\\n",
            "0  1.732058      0.000319                     0.858660     -1.402594   \n",
            "1  1.732072     -0.293092                     0.516347      0.165742   \n",
            "2  1.732085     -0.077053                     0.197658      0.371701   \n",
            "3  1.732099      0.265451                    -0.527258      0.394479   \n",
            "4  1.732113     -0.904260                     0.948716     -0.549884   \n",
            "\n",
            "   DER_pt_h  DER_deltar_tau_lep  DER_pt_tot  DER_sum_pt  DER_pt_ratio_lep_tau  \\\n",
            "0 -0.861825           -1.877739   -0.713016   -0.885125              0.116474   \n",
            "1 -0.124136           -0.415246   -0.729044   -0.220967              0.401769   \n",
            "2 -0.844529            0.487796   -0.663585   -0.525749             -0.404395   \n",
            "3 -0.766500            0.559324   -0.440584   -0.555894             -0.732306   \n",
            "4  0.498779           -1.718078    2.617272    4.866821              0.326006   \n",
            "\n",
            "   DER_met_phi_centrality  ...  PRI_lep_eta  PRI_lep_phi   PRI_met  \\\n",
            "0               -1.068795  ...    -0.383004    -0.855740  0.206470   \n",
            "1               -0.901232  ...    -0.118178     0.964136 -0.626979   \n",
            "2               -1.072147  ...    -0.417787     0.160991 -0.676592   \n",
            "3               -1.050363  ...    -0.217784     1.158454 -0.504223   \n",
            "4               -0.657429  ...    -1.496856     1.538283 -0.593326   \n",
            "\n",
            "   PRI_met_phi  PRI_met_sumet  PRI_jet_num  PRI_jet_leading_pt  \\\n",
            "0     1.121343      -0.879382    -1.001792            0.002393   \n",
            "1    -0.622376      -0.265189     0.021305           -0.792453   \n",
            "2    -1.025197      -0.777018    -1.001792            0.002393   \n",
            "3     0.652305      -0.356446    -1.001792            0.002393   \n",
            "4    -0.121884       5.215974     2.067499            3.601165   \n",
            "\n",
            "   PRI_jet_leading_eta  PRI_jet_leading_phi  PRI_jet_all_pt  \n",
            "0             0.001782            -0.006467       -0.745439  \n",
            "1            -0.397574            -0.595431       -0.260057  \n",
            "2             0.001782            -0.006467       -0.745439  \n",
            "3             0.001782            -0.006467       -0.745439  \n",
            "4            -0.730257            -0.228895        5.368014  \n",
            "\n",
            "[5 rows x 24 columns]\n"
          ]
        }
      ]
    },
    {
      "cell_type": "code",
      "source": [
        "# Checking missing values.\n",
        "print(train_data.isnull().sum())\n",
        "print(test_data.isnull().sum())"
      ],
      "metadata": {
        "colab": {
          "base_uri": "https://localhost:8080/"
        },
        "id": "_GxPuw_pLuJ0",
        "outputId": "46578b2f-4eb9-43e0-8cc5-d872b6811a0d"
      },
      "execution_count": 20,
      "outputs": [
        {
          "output_type": "stream",
          "name": "stdout",
          "text": [
            "EventId                        0\n",
            "DER_mass_MMC                   0\n",
            "DER_mass_transverse_met_lep    0\n",
            "DER_mass_vis                   0\n",
            "DER_pt_h                       0\n",
            "DER_deltaeta_jet_jet           0\n",
            "DER_mass_jet_jet               0\n",
            "DER_prodeta_jet_jet            0\n",
            "DER_deltar_tau_lep             0\n",
            "DER_pt_tot                     0\n",
            "DER_sum_pt                     0\n",
            "DER_pt_ratio_lep_tau           0\n",
            "DER_met_phi_centrality         0\n",
            "DER_lep_eta_centrality         0\n",
            "PRI_tau_pt                     0\n",
            "PRI_tau_eta                    0\n",
            "PRI_tau_phi                    0\n",
            "PRI_lep_pt                     0\n",
            "PRI_lep_eta                    0\n",
            "PRI_lep_phi                    0\n",
            "PRI_met                        0\n",
            "PRI_met_phi                    0\n",
            "PRI_met_sumet                  0\n",
            "PRI_jet_num                    0\n",
            "PRI_jet_leading_pt             0\n",
            "PRI_jet_leading_eta            0\n",
            "PRI_jet_leading_phi            0\n",
            "PRI_jet_subleading_pt          0\n",
            "PRI_jet_subleading_eta         0\n",
            "PRI_jet_subleading_phi         0\n",
            "PRI_jet_all_pt                 0\n",
            "Weight                         0\n",
            "Label                          0\n",
            "dtype: int64\n",
            "EventId                        0\n",
            "DER_mass_MMC                   0\n",
            "DER_mass_transverse_met_lep    0\n",
            "DER_mass_vis                   0\n",
            "DER_pt_h                       0\n",
            "DER_deltaeta_jet_jet           0\n",
            "DER_mass_jet_jet               0\n",
            "DER_prodeta_jet_jet            0\n",
            "DER_deltar_tau_lep             0\n",
            "DER_pt_tot                     0\n",
            "DER_sum_pt                     0\n",
            "DER_pt_ratio_lep_tau           0\n",
            "DER_met_phi_centrality         0\n",
            "DER_lep_eta_centrality         0\n",
            "PRI_tau_pt                     0\n",
            "PRI_tau_eta                    0\n",
            "PRI_tau_phi                    0\n",
            "PRI_lep_pt                     0\n",
            "PRI_lep_eta                    0\n",
            "PRI_lep_phi                    0\n",
            "PRI_met                        0\n",
            "PRI_met_phi                    0\n",
            "PRI_met_sumet                  0\n",
            "PRI_jet_num                    0\n",
            "PRI_jet_leading_pt             0\n",
            "PRI_jet_leading_eta            0\n",
            "PRI_jet_leading_phi            0\n",
            "PRI_jet_subleading_pt          0\n",
            "PRI_jet_subleading_eta         0\n",
            "PRI_jet_subleading_phi         0\n",
            "PRI_jet_all_pt                 0\n",
            "dtype: int64\n"
          ]
        }
      ]
    },
    {
      "cell_type": "code",
      "source": [
        "# In the Higgs Boson dataset, -999.0 is used as a placeholder for missing values.\n",
        "# This happens when certain measurements cannot be recorded due to detector limitations.\n",
        "# We need to replace -999.0 with NaN and handle these missing values properly.\n",
        "\n",
        "# Count missing values (-999.000 represents missing data)\n",
        "missing_values = (train_data == -999.000).sum()\n",
        "\n",
        "# Display columns with missing values\n",
        "print(\"Missing values per column:\\n\")\n",
        "print(missing_values[missing_values > 0])"
      ],
      "metadata": {
        "colab": {
          "base_uri": "https://localhost:8080/"
        },
        "id": "tUu0ohSlMY4v",
        "outputId": "1e8c4440-caba-44f3-a2d7-477574ed0a2a"
      },
      "execution_count": 21,
      "outputs": [
        {
          "output_type": "stream",
          "name": "stdout",
          "text": [
            "Missing values per column:\n",
            "\n",
            "DER_mass_MMC               38114\n",
            "DER_deltaeta_jet_jet      177457\n",
            "DER_mass_jet_jet          177457\n",
            "DER_prodeta_jet_jet       177457\n",
            "DER_lep_eta_centrality    177457\n",
            "PRI_jet_leading_pt         99913\n",
            "PRI_jet_leading_eta        99913\n",
            "PRI_jet_leading_phi        99913\n",
            "PRI_jet_subleading_pt     177457\n",
            "PRI_jet_subleading_eta    177457\n",
            "PRI_jet_subleading_phi    177457\n",
            "dtype: int64\n"
          ]
        }
      ]
    },
    {
      "cell_type": "markdown",
      "source": [
        "### Next Steps:\n",
        "- **Drop columns** with excessive missing values (if necessary).\n",
        "- **Fill missing values** using mean, median, or other strategies."
      ],
      "metadata": {
        "id": "jZ8RgA1fNT0Z"
      }
    },
    {
      "cell_type": "code",
      "source": [
        "# Define threshold for dropping columns (50% missing values)\n",
        "threshold = 0.5 * len(train_data)\n",
        "\n",
        "# Drop columns where missing values exceed the threshold\n",
        "columns_to_drop = missing_values[missing_values > threshold].index\n",
        "train_data.drop(columns=columns_to_drop, inplace=True)\n",
        "test_data.drop(columns=columns_to_drop, inplace=True)\n",
        "\n",
        "print(f\"Dropped columns: {list(columns_to_drop)}\")"
      ],
      "metadata": {
        "colab": {
          "base_uri": "https://localhost:8080/"
        },
        "id": "kEx2PuN7NF94",
        "outputId": "7605af5c-53d6-4e83-d308-7da611bcb209"
      },
      "execution_count": 22,
      "outputs": [
        {
          "output_type": "stream",
          "name": "stdout",
          "text": [
            "Dropped columns: ['DER_deltaeta_jet_jet', 'DER_mass_jet_jet', 'DER_prodeta_jet_jet', 'DER_lep_eta_centrality', 'PRI_jet_subleading_pt', 'PRI_jet_subleading_eta', 'PRI_jet_subleading_phi']\n"
          ]
        }
      ]
    },
    {
      "cell_type": "code",
      "source": [
        "# Replace -999.0 with NaN (for proper handling)\n",
        "train_data.replace(-999.000, np.nan, inplace=True)\n",
        "test_data.replace(-999.000, np.nan, inplace=True)\n",
        "\n",
        "# Select only numeric columns\n",
        "numeric_cols = train_data.select_dtypes(include=['number']).columns\n",
        "\n",
        "# Select numeric columns that exist in both train and test data\n",
        "numeric_cols = train_data.select_dtypes(include=['number']).columns.intersection(test_data.columns)\n",
        "\n",
        "# Fill missing values with column mean (only for numeric columns)\n",
        "train_data[numeric_cols] = train_data[numeric_cols].fillna(train_data[numeric_cols].mean())\n",
        "test_data[numeric_cols] = test_data[numeric_cols].fillna(test_data[numeric_cols].mean())\n",
        "\n",
        "print(\"Missing values handled successfully!\")"
      ],
      "metadata": {
        "colab": {
          "base_uri": "https://localhost:8080/"
        },
        "id": "wqbMW4oONu6W",
        "outputId": "ba6c6edc-c9a7-4e10-fb67-56e0dac0e476"
      },
      "execution_count": 23,
      "outputs": [
        {
          "output_type": "stream",
          "name": "stdout",
          "text": [
            "Missing values handled successfully!\n"
          ]
        }
      ]
    },
    {
      "cell_type": "code",
      "source": [
        "print(\"Columns in training data:\", train_data.columns.tolist())\n",
        "print(\"Columns in test data:\", test_data.columns.tolist())\n",
        "\n",
        "# Find missing columns\n",
        "missing_in_test = set(train_data.columns) - set(test_data.columns)\n",
        "missing_in_train = set(test_data.columns) - set(train_data.columns)\n",
        "\n",
        "print(\"Columns missing in test data:\", missing_in_test)\n",
        "print(\"Columns missing in train data:\", missing_in_train)"
      ],
      "metadata": {
        "colab": {
          "base_uri": "https://localhost:8080/"
        },
        "id": "SkEFu056Og8F",
        "outputId": "da56e1f8-324c-49f2-eedb-16829cdc3a2f"
      },
      "execution_count": 24,
      "outputs": [
        {
          "output_type": "stream",
          "name": "stdout",
          "text": [
            "Columns in training data: ['EventId', 'DER_mass_MMC', 'DER_mass_transverse_met_lep', 'DER_mass_vis', 'DER_pt_h', 'DER_deltar_tau_lep', 'DER_pt_tot', 'DER_sum_pt', 'DER_pt_ratio_lep_tau', 'DER_met_phi_centrality', 'PRI_tau_pt', 'PRI_tau_eta', 'PRI_tau_phi', 'PRI_lep_pt', 'PRI_lep_eta', 'PRI_lep_phi', 'PRI_met', 'PRI_met_phi', 'PRI_met_sumet', 'PRI_jet_num', 'PRI_jet_leading_pt', 'PRI_jet_leading_eta', 'PRI_jet_leading_phi', 'PRI_jet_all_pt', 'Weight', 'Label']\n",
            "Columns in test data: ['EventId', 'DER_mass_MMC', 'DER_mass_transverse_met_lep', 'DER_mass_vis', 'DER_pt_h', 'DER_deltar_tau_lep', 'DER_pt_tot', 'DER_sum_pt', 'DER_pt_ratio_lep_tau', 'DER_met_phi_centrality', 'PRI_tau_pt', 'PRI_tau_eta', 'PRI_tau_phi', 'PRI_lep_pt', 'PRI_lep_eta', 'PRI_lep_phi', 'PRI_met', 'PRI_met_phi', 'PRI_met_sumet', 'PRI_jet_num', 'PRI_jet_leading_pt', 'PRI_jet_leading_eta', 'PRI_jet_leading_phi', 'PRI_jet_all_pt']\n",
            "Columns missing in test data: {'Label', 'Weight'}\n",
            "Columns missing in train data: set()\n"
          ]
        }
      ]
    },
    {
      "cell_type": "markdown",
      "source": [
        "# Step:4 Label Encoding.\n"
      ],
      "metadata": {
        "id": "d4ZChaXIQDHW"
      }
    },
    {
      "cell_type": "code",
      "source": [
        "# Convert 'Label' column to binary values (s → 1, b → 0)\n",
        "train_data['Label'] = train_data['Label'].map({'s': 1, 'b': 0})\n",
        "\n",
        "# Drop 'Weight' column\n",
        "train_data.drop(columns=['Weight'], inplace=True)\n",
        "test_data.drop(columns=['Weight'], inplace=True, errors='ignore')  # Ignore error if missing\n",
        "\n",
        "print(\"Label converted and Weight column dropped!\")"
      ],
      "metadata": {
        "colab": {
          "base_uri": "https://localhost:8080/"
        },
        "id": "wL0qi90RPhhG",
        "outputId": "3a886295-33d2-4cea-81d4-9376e1a4266c"
      },
      "execution_count": 25,
      "outputs": [
        {
          "output_type": "stream",
          "name": "stdout",
          "text": [
            "Label converted and Weight column dropped!\n"
          ]
        }
      ]
    },
    {
      "cell_type": "markdown",
      "source": [
        "# Step:5 Feature Scaling"
      ],
      "metadata": {
        "id": "UdNDQC59P-y5"
      }
    },
    {
      "cell_type": "code",
      "source": [
        "from sklearn.preprocessing import StandardScaler\n",
        "\n",
        "# Select only numeric columns (excluding 'Label')\n",
        "numeric_cols = train_data.drop(columns=['Label']).columns\n",
        "\n",
        "# Initialize the scaler\n",
        "scaler = StandardScaler()\n",
        "\n",
        "# Fit and transform the training data\n",
        "train_data[numeric_cols] = scaler.fit_transform(train_data[numeric_cols])\n",
        "\n",
        "# Apply the same transformation to the test data\n",
        "test_data[numeric_cols] = scaler.transform(test_data[numeric_cols])\n",
        "\n",
        "print(\"Feature scaling completed!\")"
      ],
      "metadata": {
        "colab": {
          "base_uri": "https://localhost:8080/"
        },
        "id": "bicrU7FrP79l",
        "outputId": "9feacd7c-3054-4786-c8be-1bce64e45be6"
      },
      "execution_count": 26,
      "outputs": [
        {
          "output_type": "stream",
          "name": "stdout",
          "text": [
            "Feature scaling completed!\n"
          ]
        }
      ]
    },
    {
      "cell_type": "markdown",
      "source": [
        "# Step:6 Splilting Data"
      ],
      "metadata": {
        "id": "T2Bb4OMRQbfD"
      }
    },
    {
      "cell_type": "code",
      "source": [
        "from sklearn.model_selection import train_test_split\n",
        "\n",
        "# Define input features (X) and target labels (y)\n",
        "X = train_data.drop(columns=['Label'])  # Features\n",
        "y = train_data['Label']  # Target\n",
        "\n",
        "# Split into train (70%), validation (15%), and test (15%)\n",
        "X_train, X_temp, y_train, y_temp = train_test_split(X, y, test_size=0.3, random_state=42)\n",
        "X_val, X_test, y_val, y_test = train_test_split(X_temp, y_temp, test_size=0.5, random_state=42)\n",
        "\n",
        "print(\"Data split completed!\")\n",
        "print(f\"Training set: {X_train.shape}, Validation set: {X_val.shape}, Test set: {X_test.shape}\")"
      ],
      "metadata": {
        "colab": {
          "base_uri": "https://localhost:8080/"
        },
        "id": "izfH_z10QJnr",
        "outputId": "4ccc7198-27d8-45cd-82fc-448c24fa9702"
      },
      "execution_count": 27,
      "outputs": [
        {
          "output_type": "stream",
          "name": "stdout",
          "text": [
            "Data split completed!\n",
            "Training set: (175000, 24), Validation set: (37500, 24), Test set: (37500, 24)\n"
          ]
        }
      ]
    },
    {
      "cell_type": "markdown",
      "source": [
        "# Step:7 Defining & Creating Model"
      ],
      "metadata": {
        "id": "7o4lJORNQzj6"
      }
    },
    {
      "cell_type": "markdown",
      "source": [
        "## This is my first model ."
      ],
      "metadata": {
        "id": "GdxPwJ3bfhGX"
      }
    },
    {
      "cell_type": "code",
      "source": [
        "# # Define the model\n",
        "# model = Sequential([\n",
        "#     Dense(64, activation='relu', input_shape=(X_train.shape[1],)),  # First hidden layer\n",
        "#     BatchNormalization(),\n",
        "#     Dropout(0.3),\n",
        "\n",
        "#     Dense(32, activation='relu'),  # Second hidden layer\n",
        "#     BatchNormalization(),\n",
        "#     Dropout(0.3),\n",
        "\n",
        "#     Dense(16, activation='relu'),  # Third hidden layer\n",
        "#     BatchNormalization(),\n",
        "#     Dropout(0.3),\n",
        "\n",
        "#     Dense(1, activation='sigmoid')  # Output layer (binary classification)\n",
        "# ])\n",
        "\n",
        "# # Print model summary\n",
        "# model.summary()"
      ],
      "metadata": {
        "colab": {
          "base_uri": "https://localhost:8080/",
          "height": 553
        },
        "id": "MoYwHIAtQzJd",
        "outputId": "9f1c5d34-d0dc-4d50-cd0f-e45997a71bea"
      },
      "execution_count": 32,
      "outputs": [
        {
          "output_type": "stream",
          "name": "stderr",
          "text": [
            "/usr/local/lib/python3.11/dist-packages/keras/src/layers/core/dense.py:87: UserWarning: Do not pass an `input_shape`/`input_dim` argument to a layer. When using Sequential models, prefer using an `Input(shape)` object as the first layer in the model instead.\n",
            "  super().__init__(activity_regularizer=activity_regularizer, **kwargs)\n"
          ]
        },
        {
          "output_type": "display_data",
          "data": {
            "text/plain": [
              "\u001b[1mModel: \"sequential\"\u001b[0m\n"
            ],
            "text/html": [
              "<pre style=\"white-space:pre;overflow-x:auto;line-height:normal;font-family:Menlo,'DejaVu Sans Mono',consolas,'Courier New',monospace\"><span style=\"font-weight: bold\">Model: \"sequential\"</span>\n",
              "</pre>\n"
            ]
          },
          "metadata": {}
        },
        {
          "output_type": "display_data",
          "data": {
            "text/plain": [
              "┏━━━━━━━━━━━━━━━━━━━━━━━━━━━━━━━━━┳━━━━━━━━━━━━━━━━━━━━━━━━┳━━━━━━━━━━━━━━━┓\n",
              "┃\u001b[1m \u001b[0m\u001b[1mLayer (type)                   \u001b[0m\u001b[1m \u001b[0m┃\u001b[1m \u001b[0m\u001b[1mOutput Shape          \u001b[0m\u001b[1m \u001b[0m┃\u001b[1m \u001b[0m\u001b[1m      Param #\u001b[0m\u001b[1m \u001b[0m┃\n",
              "┡━━━━━━━━━━━━━━━━━━━━━━━━━━━━━━━━━╇━━━━━━━━━━━━━━━━━━━━━━━━╇━━━━━━━━━━━━━━━┩\n",
              "│ dense (\u001b[38;5;33mDense\u001b[0m)                   │ (\u001b[38;5;45mNone\u001b[0m, \u001b[38;5;34m64\u001b[0m)             │         \u001b[38;5;34m1,600\u001b[0m │\n",
              "├─────────────────────────────────┼────────────────────────┼───────────────┤\n",
              "│ batch_normalization             │ (\u001b[38;5;45mNone\u001b[0m, \u001b[38;5;34m64\u001b[0m)             │           \u001b[38;5;34m256\u001b[0m │\n",
              "│ (\u001b[38;5;33mBatchNormalization\u001b[0m)            │                        │               │\n",
              "├─────────────────────────────────┼────────────────────────┼───────────────┤\n",
              "│ dropout (\u001b[38;5;33mDropout\u001b[0m)               │ (\u001b[38;5;45mNone\u001b[0m, \u001b[38;5;34m64\u001b[0m)             │             \u001b[38;5;34m0\u001b[0m │\n",
              "├─────────────────────────────────┼────────────────────────┼───────────────┤\n",
              "│ dense_1 (\u001b[38;5;33mDense\u001b[0m)                 │ (\u001b[38;5;45mNone\u001b[0m, \u001b[38;5;34m32\u001b[0m)             │         \u001b[38;5;34m2,080\u001b[0m │\n",
              "├─────────────────────────────────┼────────────────────────┼───────────────┤\n",
              "│ batch_normalization_1           │ (\u001b[38;5;45mNone\u001b[0m, \u001b[38;5;34m32\u001b[0m)             │           \u001b[38;5;34m128\u001b[0m │\n",
              "│ (\u001b[38;5;33mBatchNormalization\u001b[0m)            │                        │               │\n",
              "├─────────────────────────────────┼────────────────────────┼───────────────┤\n",
              "│ dropout_1 (\u001b[38;5;33mDropout\u001b[0m)             │ (\u001b[38;5;45mNone\u001b[0m, \u001b[38;5;34m32\u001b[0m)             │             \u001b[38;5;34m0\u001b[0m │\n",
              "├─────────────────────────────────┼────────────────────────┼───────────────┤\n",
              "│ dense_2 (\u001b[38;5;33mDense\u001b[0m)                 │ (\u001b[38;5;45mNone\u001b[0m, \u001b[38;5;34m16\u001b[0m)             │           \u001b[38;5;34m528\u001b[0m │\n",
              "├─────────────────────────────────┼────────────────────────┼───────────────┤\n",
              "│ batch_normalization_2           │ (\u001b[38;5;45mNone\u001b[0m, \u001b[38;5;34m16\u001b[0m)             │            \u001b[38;5;34m64\u001b[0m │\n",
              "│ (\u001b[38;5;33mBatchNormalization\u001b[0m)            │                        │               │\n",
              "├─────────────────────────────────┼────────────────────────┼───────────────┤\n",
              "│ dropout_2 (\u001b[38;5;33mDropout\u001b[0m)             │ (\u001b[38;5;45mNone\u001b[0m, \u001b[38;5;34m16\u001b[0m)             │             \u001b[38;5;34m0\u001b[0m │\n",
              "├─────────────────────────────────┼────────────────────────┼───────────────┤\n",
              "│ dense_3 (\u001b[38;5;33mDense\u001b[0m)                 │ (\u001b[38;5;45mNone\u001b[0m, \u001b[38;5;34m1\u001b[0m)              │            \u001b[38;5;34m17\u001b[0m │\n",
              "└─────────────────────────────────┴────────────────────────┴───────────────┘\n"
            ],
            "text/html": [
              "<pre style=\"white-space:pre;overflow-x:auto;line-height:normal;font-family:Menlo,'DejaVu Sans Mono',consolas,'Courier New',monospace\">┏━━━━━━━━━━━━━━━━━━━━━━━━━━━━━━━━━┳━━━━━━━━━━━━━━━━━━━━━━━━┳━━━━━━━━━━━━━━━┓\n",
              "┃<span style=\"font-weight: bold\"> Layer (type)                    </span>┃<span style=\"font-weight: bold\"> Output Shape           </span>┃<span style=\"font-weight: bold\">       Param # </span>┃\n",
              "┡━━━━━━━━━━━━━━━━━━━━━━━━━━━━━━━━━╇━━━━━━━━━━━━━━━━━━━━━━━━╇━━━━━━━━━━━━━━━┩\n",
              "│ dense (<span style=\"color: #0087ff; text-decoration-color: #0087ff\">Dense</span>)                   │ (<span style=\"color: #00d7ff; text-decoration-color: #00d7ff\">None</span>, <span style=\"color: #00af00; text-decoration-color: #00af00\">64</span>)             │         <span style=\"color: #00af00; text-decoration-color: #00af00\">1,600</span> │\n",
              "├─────────────────────────────────┼────────────────────────┼───────────────┤\n",
              "│ batch_normalization             │ (<span style=\"color: #00d7ff; text-decoration-color: #00d7ff\">None</span>, <span style=\"color: #00af00; text-decoration-color: #00af00\">64</span>)             │           <span style=\"color: #00af00; text-decoration-color: #00af00\">256</span> │\n",
              "│ (<span style=\"color: #0087ff; text-decoration-color: #0087ff\">BatchNormalization</span>)            │                        │               │\n",
              "├─────────────────────────────────┼────────────────────────┼───────────────┤\n",
              "│ dropout (<span style=\"color: #0087ff; text-decoration-color: #0087ff\">Dropout</span>)               │ (<span style=\"color: #00d7ff; text-decoration-color: #00d7ff\">None</span>, <span style=\"color: #00af00; text-decoration-color: #00af00\">64</span>)             │             <span style=\"color: #00af00; text-decoration-color: #00af00\">0</span> │\n",
              "├─────────────────────────────────┼────────────────────────┼───────────────┤\n",
              "│ dense_1 (<span style=\"color: #0087ff; text-decoration-color: #0087ff\">Dense</span>)                 │ (<span style=\"color: #00d7ff; text-decoration-color: #00d7ff\">None</span>, <span style=\"color: #00af00; text-decoration-color: #00af00\">32</span>)             │         <span style=\"color: #00af00; text-decoration-color: #00af00\">2,080</span> │\n",
              "├─────────────────────────────────┼────────────────────────┼───────────────┤\n",
              "│ batch_normalization_1           │ (<span style=\"color: #00d7ff; text-decoration-color: #00d7ff\">None</span>, <span style=\"color: #00af00; text-decoration-color: #00af00\">32</span>)             │           <span style=\"color: #00af00; text-decoration-color: #00af00\">128</span> │\n",
              "│ (<span style=\"color: #0087ff; text-decoration-color: #0087ff\">BatchNormalization</span>)            │                        │               │\n",
              "├─────────────────────────────────┼────────────────────────┼───────────────┤\n",
              "│ dropout_1 (<span style=\"color: #0087ff; text-decoration-color: #0087ff\">Dropout</span>)             │ (<span style=\"color: #00d7ff; text-decoration-color: #00d7ff\">None</span>, <span style=\"color: #00af00; text-decoration-color: #00af00\">32</span>)             │             <span style=\"color: #00af00; text-decoration-color: #00af00\">0</span> │\n",
              "├─────────────────────────────────┼────────────────────────┼───────────────┤\n",
              "│ dense_2 (<span style=\"color: #0087ff; text-decoration-color: #0087ff\">Dense</span>)                 │ (<span style=\"color: #00d7ff; text-decoration-color: #00d7ff\">None</span>, <span style=\"color: #00af00; text-decoration-color: #00af00\">16</span>)             │           <span style=\"color: #00af00; text-decoration-color: #00af00\">528</span> │\n",
              "├─────────────────────────────────┼────────────────────────┼───────────────┤\n",
              "│ batch_normalization_2           │ (<span style=\"color: #00d7ff; text-decoration-color: #00d7ff\">None</span>, <span style=\"color: #00af00; text-decoration-color: #00af00\">16</span>)             │            <span style=\"color: #00af00; text-decoration-color: #00af00\">64</span> │\n",
              "│ (<span style=\"color: #0087ff; text-decoration-color: #0087ff\">BatchNormalization</span>)            │                        │               │\n",
              "├─────────────────────────────────┼────────────────────────┼───────────────┤\n",
              "│ dropout_2 (<span style=\"color: #0087ff; text-decoration-color: #0087ff\">Dropout</span>)             │ (<span style=\"color: #00d7ff; text-decoration-color: #00d7ff\">None</span>, <span style=\"color: #00af00; text-decoration-color: #00af00\">16</span>)             │             <span style=\"color: #00af00; text-decoration-color: #00af00\">0</span> │\n",
              "├─────────────────────────────────┼────────────────────────┼───────────────┤\n",
              "│ dense_3 (<span style=\"color: #0087ff; text-decoration-color: #0087ff\">Dense</span>)                 │ (<span style=\"color: #00d7ff; text-decoration-color: #00d7ff\">None</span>, <span style=\"color: #00af00; text-decoration-color: #00af00\">1</span>)              │            <span style=\"color: #00af00; text-decoration-color: #00af00\">17</span> │\n",
              "└─────────────────────────────────┴────────────────────────┴───────────────┘\n",
              "</pre>\n"
            ]
          },
          "metadata": {}
        },
        {
          "output_type": "display_data",
          "data": {
            "text/plain": [
              "\u001b[1m Total params: \u001b[0m\u001b[38;5;34m4,673\u001b[0m (18.25 KB)\n"
            ],
            "text/html": [
              "<pre style=\"white-space:pre;overflow-x:auto;line-height:normal;font-family:Menlo,'DejaVu Sans Mono',consolas,'Courier New',monospace\"><span style=\"font-weight: bold\"> Total params: </span><span style=\"color: #00af00; text-decoration-color: #00af00\">4,673</span> (18.25 KB)\n",
              "</pre>\n"
            ]
          },
          "metadata": {}
        },
        {
          "output_type": "display_data",
          "data": {
            "text/plain": [
              "\u001b[1m Trainable params: \u001b[0m\u001b[38;5;34m4,449\u001b[0m (17.38 KB)\n"
            ],
            "text/html": [
              "<pre style=\"white-space:pre;overflow-x:auto;line-height:normal;font-family:Menlo,'DejaVu Sans Mono',consolas,'Courier New',monospace\"><span style=\"font-weight: bold\"> Trainable params: </span><span style=\"color: #00af00; text-decoration-color: #00af00\">4,449</span> (17.38 KB)\n",
              "</pre>\n"
            ]
          },
          "metadata": {}
        },
        {
          "output_type": "display_data",
          "data": {
            "text/plain": [
              "\u001b[1m Non-trainable params: \u001b[0m\u001b[38;5;34m224\u001b[0m (896.00 B)\n"
            ],
            "text/html": [
              "<pre style=\"white-space:pre;overflow-x:auto;line-height:normal;font-family:Menlo,'DejaVu Sans Mono',consolas,'Courier New',monospace\"><span style=\"font-weight: bold\"> Non-trainable params: </span><span style=\"color: #00af00; text-decoration-color: #00af00\">224</span> (896.00 B)\n",
              "</pre>\n"
            ]
          },
          "metadata": {}
        }
      ]
    },
    {
      "cell_type": "markdown",
      "source": [
        "## Model Summary Interpretation  \n",
        "\n",
        "This deep learning model consists of **4 dense layers**, with **Batch Normalization** and **Dropout** applied after each hidden layer to improve stability and prevent overfitting.  \n",
        "\n",
        "### **Layer Breakdown**\n",
        "| **Layer Name**            | **Type**               | **Output Shape** | **Parameters** |\n",
        "|---------------------------|------------------------|------------------|---------------|\n",
        "| Dense (64 units)          | Fully Connected        | `(None, 64)`     | **1,600**     |\n",
        "| Batch Normalization       | Normalization Layer    | `(None, 64)`     | **256**       |\n",
        "| Dropout (30%)             | Regularization         | `(None, 64)`     | **0**         |\n",
        "| Dense (32 units)          | Fully Connected        | `(None, 32)`     | **2,080**     |\n",
        "| Batch Normalization       | Normalization Layer    | `(None, 32)`     | **128**       |\n",
        "| Dropout (30%)             | Regularization         | `(None, 32)`     | **0**         |\n",
        "| Dense (16 units)          | Fully Connected        | `(None, 16)`     | **528**       |\n",
        "| Batch Normalization       | Normalization Layer    | `(None, 16)`     | **64**        |\n",
        "| Dropout (30%)             | Regularization         | `(None, 16)`     | **0**         |\n",
        "| Dense (1 unit)            | Output Layer (Sigmoid) | `(None, 1)`      | **17**        |\n",
        "\n",
        "### **Key Observations**\n",
        " **Batch Normalization** → Improves stability and speeds up training.  \n",
        " **Dropout Layers** → Prevent overfitting by randomly"
      ],
      "metadata": {
        "id": "CZyzImOnRag3"
      }
    },
    {
      "cell_type": "markdown",
      "source": [
        "# Step:8 Compling Model"
      ],
      "metadata": {
        "id": "FL0s29iPRz7t"
      }
    },
    {
      "cell_type": "code",
      "source": [
        "# # Compile the model (must be done before training)\n",
        "# model.compile(\n",
        "#     optimizer=tf.keras.optimizers.Adam(learning_rate=0.001),\n",
        "#     loss='binary_crossentropy',\n",
        "#     metrics=['accuracy']\n",
        "# )\n",
        "\n",
        "# print(\"Model compiled successfully!\")\n",
        "\n",
        "# # Train the model\n",
        "# history = model.fit(\n",
        "#     X_train, y_train,\n",
        "#     validation_data=(X_val, y_val),\n",
        "#     epochs=50,\n",
        "#     batch_size=32,\n",
        "#     callbacks=callbacks,\n",
        "#     verbose=1\n",
        "# )\n",
        "\n",
        "# print(\"Model training completed!\")"
      ],
      "metadata": {
        "colab": {
          "base_uri": "https://localhost:8080/"
        },
        "id": "W1-V6APPR3ox",
        "outputId": "6f4e619e-2cd3-4584-9c42-bfa24200ee7c"
      },
      "execution_count": 34,
      "outputs": [
        {
          "output_type": "stream",
          "name": "stdout",
          "text": [
            "Model compiled successfully!\n",
            "Epoch 1/50\n",
            "\u001b[1m5469/5469\u001b[0m \u001b[32m━━━━━━━━━━━━━━━━━━━━\u001b[0m\u001b[37m\u001b[0m \u001b[1m30s\u001b[0m 4ms/step - accuracy: 0.7324 - loss: 0.5391 - val_accuracy: 0.8248 - val_loss: 0.3943 - learning_rate: 0.0010\n",
            "Epoch 2/50\n",
            "\u001b[1m5469/5469\u001b[0m \u001b[32m━━━━━━━━━━━━━━━━━━━━\u001b[0m\u001b[37m\u001b[0m \u001b[1m36s\u001b[0m 4ms/step - accuracy: 0.8040 - loss: 0.4310 - val_accuracy: 0.8273 - val_loss: 0.3851 - learning_rate: 0.0010\n",
            "Epoch 3/50\n",
            "\u001b[1m5469/5469\u001b[0m \u001b[32m━━━━━━━━━━━━━━━━━━━━\u001b[0m\u001b[37m\u001b[0m \u001b[1m22s\u001b[0m 4ms/step - accuracy: 0.8119 - loss: 0.4200 - val_accuracy: 0.8294 - val_loss: 0.3795 - learning_rate: 0.0010\n",
            "Epoch 4/50\n",
            "\u001b[1m5469/5469\u001b[0m \u001b[32m━━━━━━━━━━━━━━━━━━━━\u001b[0m\u001b[37m\u001b[0m \u001b[1m20s\u001b[0m 4ms/step - accuracy: 0.8165 - loss: 0.4120 - val_accuracy: 0.8296 - val_loss: 0.3759 - learning_rate: 0.0010\n",
            "Epoch 5/50\n",
            "\u001b[1m5469/5469\u001b[0m \u001b[32m━━━━━━━━━━━━━━━━━━━━\u001b[0m\u001b[37m\u001b[0m \u001b[1m20s\u001b[0m 4ms/step - accuracy: 0.8163 - loss: 0.4109 - val_accuracy: 0.8302 - val_loss: 0.3779 - learning_rate: 0.0010\n",
            "Epoch 6/50\n",
            "\u001b[1m5469/5469\u001b[0m \u001b[32m━━━━━━━━━━━━━━━━━━━━\u001b[0m\u001b[37m\u001b[0m \u001b[1m23s\u001b[0m 4ms/step - accuracy: 0.8167 - loss: 0.4101 - val_accuracy: 0.8342 - val_loss: 0.3736 - learning_rate: 0.0010\n",
            "Epoch 7/50\n",
            "\u001b[1m5469/5469\u001b[0m \u001b[32m━━━━━━━━━━━━━━━━━━━━\u001b[0m\u001b[37m\u001b[0m \u001b[1m38s\u001b[0m 4ms/step - accuracy: 0.8192 - loss: 0.4048 - val_accuracy: 0.8323 - val_loss: 0.3768 - learning_rate: 0.0010\n",
            "Epoch 8/50\n",
            "\u001b[1m5469/5469\u001b[0m \u001b[32m━━━━━━━━━━━━━━━━━━━━\u001b[0m\u001b[37m\u001b[0m \u001b[1m23s\u001b[0m 4ms/step - accuracy: 0.8177 - loss: 0.4064 - val_accuracy: 0.8334 - val_loss: 0.3729 - learning_rate: 0.0010\n",
            "Epoch 9/50\n",
            "\u001b[1m5469/5469\u001b[0m \u001b[32m━━━━━━━━━━━━━━━━━━━━\u001b[0m\u001b[37m\u001b[0m \u001b[1m19s\u001b[0m 4ms/step - accuracy: 0.8186 - loss: 0.4068 - val_accuracy: 0.8333 - val_loss: 0.3739 - learning_rate: 0.0010\n",
            "Epoch 10/50\n",
            "\u001b[1m5469/5469\u001b[0m \u001b[32m━━━━━━━━━━━━━━━━━━━━\u001b[0m\u001b[37m\u001b[0m \u001b[1m22s\u001b[0m 4ms/step - accuracy: 0.8217 - loss: 0.4041 - val_accuracy: 0.8339 - val_loss: 0.3735 - learning_rate: 0.0010\n",
            "Epoch 11/50\n",
            "\u001b[1m5469/5469\u001b[0m \u001b[32m━━━━━━━━━━━━━━━━━━━━\u001b[0m\u001b[37m\u001b[0m \u001b[1m19s\u001b[0m 4ms/step - accuracy: 0.8202 - loss: 0.4039 - val_accuracy: 0.8330 - val_loss: 0.3746 - learning_rate: 0.0010\n",
            "Epoch 12/50\n",
            "\u001b[1m5469/5469\u001b[0m \u001b[32m━━━━━━━━━━━━━━━━━━━━\u001b[0m\u001b[37m\u001b[0m \u001b[1m22s\u001b[0m 4ms/step - accuracy: 0.8213 - loss: 0.3994 - val_accuracy: 0.8341 - val_loss: 0.3714 - learning_rate: 5.0000e-04\n",
            "Epoch 13/50\n",
            "\u001b[1m5469/5469\u001b[0m \u001b[32m━━━━━━━━━━━━━━━━━━━━\u001b[0m\u001b[37m\u001b[0m \u001b[1m40s\u001b[0m 4ms/step - accuracy: 0.8202 - loss: 0.4026 - val_accuracy: 0.8338 - val_loss: 0.3732 - learning_rate: 5.0000e-04\n",
            "Epoch 14/50\n",
            "\u001b[1m5469/5469\u001b[0m \u001b[32m━━━━━━━━━━━━━━━━━━━━\u001b[0m\u001b[37m\u001b[0m \u001b[1m22s\u001b[0m 4ms/step - accuracy: 0.8207 - loss: 0.3996 - val_accuracy: 0.8348 - val_loss: 0.3714 - learning_rate: 5.0000e-04\n",
            "Epoch 15/50\n",
            "\u001b[1m5469/5469\u001b[0m \u001b[32m━━━━━━━━━━━━━━━━━━━━\u001b[0m\u001b[37m\u001b[0m \u001b[1m40s\u001b[0m 4ms/step - accuracy: 0.8229 - loss: 0.3988 - val_accuracy: 0.8346 - val_loss: 0.3703 - learning_rate: 5.0000e-04\n",
            "Epoch 16/50\n",
            "\u001b[1m5469/5469\u001b[0m \u001b[32m━━━━━━━━━━━━━━━━━━━━\u001b[0m\u001b[37m\u001b[0m \u001b[1m22s\u001b[0m 4ms/step - accuracy: 0.8224 - loss: 0.4003 - val_accuracy: 0.8350 - val_loss: 0.3699 - learning_rate: 5.0000e-04\n",
            "Epoch 17/50\n",
            "\u001b[1m5469/5469\u001b[0m \u001b[32m━━━━━━━━━━━━━━━━━━━━\u001b[0m\u001b[37m\u001b[0m \u001b[1m20s\u001b[0m 4ms/step - accuracy: 0.8231 - loss: 0.3975 - val_accuracy: 0.8344 - val_loss: 0.3706 - learning_rate: 5.0000e-04\n",
            "Epoch 18/50\n",
            "\u001b[1m5469/5469\u001b[0m \u001b[32m━━━━━━━━━━━━━━━━━━━━\u001b[0m\u001b[37m\u001b[0m \u001b[1m22s\u001b[0m 4ms/step - accuracy: 0.8224 - loss: 0.4013 - val_accuracy: 0.8350 - val_loss: 0.3718 - learning_rate: 5.0000e-04\n",
            "Epoch 19/50\n",
            "\u001b[1m5469/5469\u001b[0m \u001b[32m━━━━━━━━━━━━━━━━━━━━\u001b[0m\u001b[37m\u001b[0m \u001b[1m40s\u001b[0m 4ms/step - accuracy: 0.8216 - loss: 0.4003 - val_accuracy: 0.8336 - val_loss: 0.3707 - learning_rate: 5.0000e-04\n",
            "Epoch 20/50\n",
            "\u001b[1m5469/5469\u001b[0m \u001b[32m━━━━━━━━━━━━━━━━━━━━\u001b[0m\u001b[37m\u001b[0m \u001b[1m19s\u001b[0m 4ms/step - accuracy: 0.8237 - loss: 0.3995 - val_accuracy: 0.8353 - val_loss: 0.3678 - learning_rate: 2.5000e-04\n",
            "Epoch 21/50\n",
            "\u001b[1m5469/5469\u001b[0m \u001b[32m━━━━━━━━━━━━━━━━━━━━\u001b[0m\u001b[37m\u001b[0m \u001b[1m25s\u001b[0m 4ms/step - accuracy: 0.8254 - loss: 0.3954 - val_accuracy: 0.8362 - val_loss: 0.3689 - learning_rate: 2.5000e-04\n",
            "Epoch 22/50\n",
            "\u001b[1m5469/5469\u001b[0m \u001b[32m━━━━━━━━━━━━━━━━━━━━\u001b[0m\u001b[37m\u001b[0m \u001b[1m38s\u001b[0m 4ms/step - accuracy: 0.8227 - loss: 0.3975 - val_accuracy: 0.8342 - val_loss: 0.3691 - learning_rate: 2.5000e-04\n",
            "Epoch 23/50\n",
            "\u001b[1m5469/5469\u001b[0m \u001b[32m━━━━━━━━━━━━━━━━━━━━\u001b[0m\u001b[37m\u001b[0m \u001b[1m21s\u001b[0m 4ms/step - accuracy: 0.8252 - loss: 0.3953 - val_accuracy: 0.8354 - val_loss: 0.3688 - learning_rate: 2.5000e-04\n",
            "Epoch 24/50\n",
            "\u001b[1m5469/5469\u001b[0m \u001b[32m━━━━━━━━━━━━━━━━━━━━\u001b[0m\u001b[37m\u001b[0m \u001b[1m40s\u001b[0m 4ms/step - accuracy: 0.8238 - loss: 0.3981 - val_accuracy: 0.8355 - val_loss: 0.3675 - learning_rate: 1.2500e-04\n",
            "Epoch 25/50\n",
            "\u001b[1m5469/5469\u001b[0m \u001b[32m━━━━━━━━━━━━━━━━━━━━\u001b[0m\u001b[37m\u001b[0m \u001b[1m20s\u001b[0m 4ms/step - accuracy: 0.8249 - loss: 0.3952 - val_accuracy: 0.8344 - val_loss: 0.3715 - learning_rate: 1.2500e-04\n",
            "Epoch 26/50\n",
            "\u001b[1m5469/5469\u001b[0m \u001b[32m━━━━━━━━━━━━━━━━━━━━\u001b[0m\u001b[37m\u001b[0m \u001b[1m21s\u001b[0m 4ms/step - accuracy: 0.8244 - loss: 0.3944 - val_accuracy: 0.8346 - val_loss: 0.3683 - learning_rate: 1.2500e-04\n",
            "Epoch 27/50\n",
            "\u001b[1m5469/5469\u001b[0m \u001b[32m━━━━━━━━━━━━━━━━━━━━\u001b[0m\u001b[37m\u001b[0m \u001b[1m22s\u001b[0m 4ms/step - accuracy: 0.8249 - loss: 0.3965 - val_accuracy: 0.8351 - val_loss: 0.3696 - learning_rate: 1.2500e-04\n",
            "Epoch 28/50\n",
            "\u001b[1m5469/5469\u001b[0m \u001b[32m━━━━━━━━━━━━━━━━━━━━\u001b[0m\u001b[37m\u001b[0m \u001b[1m40s\u001b[0m 4ms/step - accuracy: 0.8266 - loss: 0.3936 - val_accuracy: 0.8352 - val_loss: 0.3679 - learning_rate: 6.2500e-05\n",
            "Epoch 29/50\n",
            "\u001b[1m5469/5469\u001b[0m \u001b[32m━━━━━━━━━━━━━━━━━━━━\u001b[0m\u001b[37m\u001b[0m \u001b[1m39s\u001b[0m 4ms/step - accuracy: 0.8260 - loss: 0.3944 - val_accuracy: 0.8354 - val_loss: 0.3678 - learning_rate: 6.2500e-05\n",
            "Model training completed!\n"
          ]
        }
      ]
    },
    {
      "cell_type": "markdown",
      "source": [
        "## Now I am `Fine Tunning` my Model."
      ],
      "metadata": {
        "id": "XinT7N4xfmxU"
      }
    },
    {
      "cell_type": "code",
      "source": [
        "# model = Sequential([\n",
        "#     Dense(128, activation='relu', input_shape=(X_train.shape[1],)),\n",
        "#     BatchNormalization(),\n",
        "#     Dropout(0.4),\n",
        "\n",
        "#     Dense(64, activation='relu'),\n",
        "#     BatchNormalization(),\n",
        "#     Dropout(0.4),\n",
        "\n",
        "#     Dense(32, activation='relu'),\n",
        "#     BatchNormalization(),\n",
        "#     Dropout(0.3),\n",
        "\n",
        "#     Dense(1, activation='sigmoid')\n",
        "# ])"
      ],
      "metadata": {
        "colab": {
          "base_uri": "https://localhost:8080/"
        },
        "id": "nkrULBHafmPg",
        "outputId": "b6be9db7-8be5-417b-a9fe-6a0f3693b1c7"
      },
      "execution_count": 28,
      "outputs": [
        {
          "output_type": "stream",
          "name": "stderr",
          "text": [
            "/usr/local/lib/python3.11/dist-packages/keras/src/layers/core/dense.py:87: UserWarning: Do not pass an `input_shape`/`input_dim` argument to a layer. When using Sequential models, prefer using an `Input(shape)` object as the first layer in the model instead.\n",
            "  super().__init__(activity_regularizer=activity_regularizer, **kwargs)\n"
          ]
        }
      ]
    },
    {
      "cell_type": "markdown",
      "source": [
        "## Compile the Model (Lower Learning Rate)"
      ],
      "metadata": {
        "id": "5qQFzbJpg64j"
      }
    },
    {
      "cell_type": "code",
      "source": [
        "# model.compile(\n",
        "#     optimizer=Adam(learning_rate=0.0005),\n",
        "#     loss='binary_crossentropy',\n",
        "#     metrics=['accuracy']\n",
        "# )\n",
        "\n",
        "# print(\"Fine-tuned model compiled successfully!\")"
      ],
      "metadata": {
        "colab": {
          "base_uri": "https://localhost:8080/"
        },
        "id": "GB0jyleWg6h9",
        "outputId": "a6b07f01-b691-4e30-b668-1a96343af447"
      },
      "execution_count": 29,
      "outputs": [
        {
          "output_type": "stream",
          "name": "stdout",
          "text": [
            "Fine-tuned model compiled successfully!\n"
          ]
        }
      ]
    },
    {
      "cell_type": "markdown",
      "source": [
        "### Define Call backs."
      ],
      "metadata": {
        "id": "AhujGeyOhCH7"
      }
    },
    {
      "cell_type": "code",
      "source": [
        "# callbacks = [\n",
        "#     EarlyStopping(monitor='val_loss', patience=10, restore_best_weights=True),\n",
        "#     ReduceLROnPlateau(monitor='val_loss', factor=0.5, patience=3)\n",
        "# ]"
      ],
      "metadata": {
        "id": "rylbi7Cig-7w"
      },
      "execution_count": 30,
      "outputs": []
    },
    {
      "cell_type": "markdown",
      "source": [
        "### Training the `Fine Tunned Model`"
      ],
      "metadata": {
        "id": "bKerduSchPhM"
      }
    },
    {
      "cell_type": "code",
      "source": [
        "# history = model.fit(\n",
        "#     X_train, y_train,\n",
        "#     validation_data=(X_val, y_val),\n",
        "#     epochs=50,\n",
        "#     batch_size=64,\n",
        "#     callbacks=callbacks,\n",
        "#     verbose=1\n",
        "# )"
      ],
      "metadata": {
        "colab": {
          "base_uri": "https://localhost:8080/"
        },
        "id": "S1rU_IxnhK4H",
        "outputId": "6c1f2ecf-b9ec-4253-d097-0d5cb3c16862"
      },
      "execution_count": 31,
      "outputs": [
        {
          "output_type": "stream",
          "name": "stdout",
          "text": [
            "Epoch 1/50\n",
            "\u001b[1m2735/2735\u001b[0m \u001b[32m━━━━━━━━━━━━━━━━━━━━\u001b[0m\u001b[37m\u001b[0m \u001b[1m27s\u001b[0m 7ms/step - accuracy: 0.7055 - loss: 0.5875 - val_accuracy: 0.8222 - val_loss: 0.3965 - learning_rate: 5.0000e-04\n",
            "Epoch 2/50\n",
            "\u001b[1m2735/2735\u001b[0m \u001b[32m━━━━━━━━━━━━━━━━━━━━\u001b[0m\u001b[37m\u001b[0m \u001b[1m28s\u001b[0m 4ms/step - accuracy: 0.8034 - loss: 0.4351 - val_accuracy: 0.8279 - val_loss: 0.3811 - learning_rate: 5.0000e-04\n",
            "Epoch 3/50\n",
            "\u001b[1m2735/2735\u001b[0m \u001b[32m━━━━━━━━━━━━━━━━━━━━\u001b[0m\u001b[37m\u001b[0m \u001b[1m11s\u001b[0m 4ms/step - accuracy: 0.8152 - loss: 0.4135 - val_accuracy: 0.8299 - val_loss: 0.3768 - learning_rate: 5.0000e-04\n",
            "Epoch 4/50\n",
            "\u001b[1m2735/2735\u001b[0m \u001b[32m━━━━━━━━━━━━━━━━━━━━\u001b[0m\u001b[37m\u001b[0m \u001b[1m19s\u001b[0m 3ms/step - accuracy: 0.8184 - loss: 0.4050 - val_accuracy: 0.8311 - val_loss: 0.3738 - learning_rate: 5.0000e-04\n",
            "Epoch 5/50\n",
            "\u001b[1m2735/2735\u001b[0m \u001b[32m━━━━━━━━━━━━━━━━━━━━\u001b[0m\u001b[37m\u001b[0m \u001b[1m12s\u001b[0m 4ms/step - accuracy: 0.8208 - loss: 0.4013 - val_accuracy: 0.8320 - val_loss: 0.3707 - learning_rate: 5.0000e-04\n",
            "Epoch 6/50\n",
            "\u001b[1m2735/2735\u001b[0m \u001b[32m━━━━━━━━━━━━━━━━━━━━\u001b[0m\u001b[37m\u001b[0m \u001b[1m19s\u001b[0m 4ms/step - accuracy: 0.8201 - loss: 0.4007 - val_accuracy: 0.8337 - val_loss: 0.3697 - learning_rate: 5.0000e-04\n",
            "Epoch 7/50\n",
            "\u001b[1m2735/2735\u001b[0m \u001b[32m━━━━━━━━━━━━━━━━━━━━\u001b[0m\u001b[37m\u001b[0m \u001b[1m9s\u001b[0m 3ms/step - accuracy: 0.8227 - loss: 0.3970 - val_accuracy: 0.8338 - val_loss: 0.3689 - learning_rate: 5.0000e-04\n",
            "Epoch 8/50\n",
            "\u001b[1m2735/2735\u001b[0m \u001b[32m━━━━━━━━━━━━━━━━━━━━\u001b[0m\u001b[37m\u001b[0m \u001b[1m10s\u001b[0m 4ms/step - accuracy: 0.8252 - loss: 0.3945 - val_accuracy: 0.8337 - val_loss: 0.3680 - learning_rate: 5.0000e-04\n",
            "Epoch 9/50\n",
            "\u001b[1m2735/2735\u001b[0m \u001b[32m━━━━━━━━━━━━━━━━━━━━\u001b[0m\u001b[37m\u001b[0m \u001b[1m10s\u001b[0m 4ms/step - accuracy: 0.8250 - loss: 0.3934 - val_accuracy: 0.8348 - val_loss: 0.3675 - learning_rate: 5.0000e-04\n",
            "Epoch 10/50\n",
            "\u001b[1m2735/2735\u001b[0m \u001b[32m━━━━━━━━━━━━━━━━━━━━\u001b[0m\u001b[37m\u001b[0m \u001b[1m10s\u001b[0m 3ms/step - accuracy: 0.8260 - loss: 0.3917 - val_accuracy: 0.8345 - val_loss: 0.3670 - learning_rate: 5.0000e-04\n",
            "Epoch 11/50\n",
            "\u001b[1m2735/2735\u001b[0m \u001b[32m━━━━━━━━━━━━━━━━━━━━\u001b[0m\u001b[37m\u001b[0m \u001b[1m9s\u001b[0m 3ms/step - accuracy: 0.8235 - loss: 0.3951 - val_accuracy: 0.8349 - val_loss: 0.3664 - learning_rate: 5.0000e-04\n",
            "Epoch 12/50\n",
            "\u001b[1m2735/2735\u001b[0m \u001b[32m━━━━━━━━━━━━━━━━━━━━\u001b[0m\u001b[37m\u001b[0m \u001b[1m10s\u001b[0m 4ms/step - accuracy: 0.8266 - loss: 0.3896 - val_accuracy: 0.8350 - val_loss: 0.3664 - learning_rate: 5.0000e-04\n",
            "Epoch 13/50\n",
            "\u001b[1m2735/2735\u001b[0m \u001b[32m━━━━━━━━━━━━━━━━━━━━\u001b[0m\u001b[37m\u001b[0m \u001b[1m10s\u001b[0m 4ms/step - accuracy: 0.8250 - loss: 0.3909 - val_accuracy: 0.8358 - val_loss: 0.3651 - learning_rate: 5.0000e-04\n",
            "Epoch 14/50\n",
            "\u001b[1m2735/2735\u001b[0m \u001b[32m━━━━━━━━━━━━━━━━━━━━\u001b[0m\u001b[37m\u001b[0m \u001b[1m10s\u001b[0m 4ms/step - accuracy: 0.8263 - loss: 0.3880 - val_accuracy: 0.8358 - val_loss: 0.3667 - learning_rate: 5.0000e-04\n",
            "Epoch 15/50\n",
            "\u001b[1m2735/2735\u001b[0m \u001b[32m━━━━━━━━━━━━━━━━━━━━\u001b[0m\u001b[37m\u001b[0m \u001b[1m9s\u001b[0m 3ms/step - accuracy: 0.8267 - loss: 0.3884 - val_accuracy: 0.8347 - val_loss: 0.3658 - learning_rate: 5.0000e-04\n",
            "Epoch 16/50\n",
            "\u001b[1m2735/2735\u001b[0m \u001b[32m━━━━━━━━━━━━━━━━━━━━\u001b[0m\u001b[37m\u001b[0m \u001b[1m10s\u001b[0m 4ms/step - accuracy: 0.8260 - loss: 0.3887 - val_accuracy: 0.8364 - val_loss: 0.3665 - learning_rate: 5.0000e-04\n",
            "Epoch 17/50\n",
            "\u001b[1m2735/2735\u001b[0m \u001b[32m━━━━━━━━━━━━━━━━━━━━\u001b[0m\u001b[37m\u001b[0m \u001b[1m11s\u001b[0m 4ms/step - accuracy: 0.8276 - loss: 0.3887 - val_accuracy: 0.8364 - val_loss: 0.3641 - learning_rate: 2.5000e-04\n",
            "Epoch 18/50\n",
            "\u001b[1m2735/2735\u001b[0m \u001b[32m━━━━━━━━━━━━━━━━━━━━\u001b[0m\u001b[37m\u001b[0m \u001b[1m18s\u001b[0m 3ms/step - accuracy: 0.8285 - loss: 0.3852 - val_accuracy: 0.8360 - val_loss: 0.3647 - learning_rate: 2.5000e-04\n",
            "Epoch 19/50\n",
            "\u001b[1m2735/2735\u001b[0m \u001b[32m━━━━━━━━━━━━━━━━━━━━\u001b[0m\u001b[37m\u001b[0m \u001b[1m11s\u001b[0m 4ms/step - accuracy: 0.8294 - loss: 0.3836 - val_accuracy: 0.8363 - val_loss: 0.3650 - learning_rate: 2.5000e-04\n",
            "Epoch 20/50\n",
            "\u001b[1m2735/2735\u001b[0m \u001b[32m━━━━━━━━━━━━━━━━━━━━\u001b[0m\u001b[37m\u001b[0m \u001b[1m10s\u001b[0m 4ms/step - accuracy: 0.8276 - loss: 0.3874 - val_accuracy: 0.8368 - val_loss: 0.3640 - learning_rate: 2.5000e-04\n",
            "Epoch 21/50\n",
            "\u001b[1m2735/2735\u001b[0m \u001b[32m━━━━━━━━━━━━━━━━━━━━\u001b[0m\u001b[37m\u001b[0m \u001b[1m10s\u001b[0m 4ms/step - accuracy: 0.8292 - loss: 0.3841 - val_accuracy: 0.8369 - val_loss: 0.3635 - learning_rate: 2.5000e-04\n",
            "Epoch 22/50\n",
            "\u001b[1m2735/2735\u001b[0m \u001b[32m━━━━━━━━━━━━━━━━━━━━\u001b[0m\u001b[37m\u001b[0m \u001b[1m9s\u001b[0m 3ms/step - accuracy: 0.8287 - loss: 0.3859 - val_accuracy: 0.8366 - val_loss: 0.3636 - learning_rate: 2.5000e-04\n",
            "Epoch 23/50\n",
            "\u001b[1m2735/2735\u001b[0m \u001b[32m━━━━━━━━━━━━━━━━━━━━\u001b[0m\u001b[37m\u001b[0m \u001b[1m10s\u001b[0m 4ms/step - accuracy: 0.8289 - loss: 0.3852 - val_accuracy: 0.8367 - val_loss: 0.3633 - learning_rate: 2.5000e-04\n",
            "Epoch 24/50\n",
            "\u001b[1m2735/2735\u001b[0m \u001b[32m━━━━━━━━━━━━━━━━━━━━\u001b[0m\u001b[37m\u001b[0m \u001b[1m10s\u001b[0m 4ms/step - accuracy: 0.8306 - loss: 0.3826 - val_accuracy: 0.8360 - val_loss: 0.3643 - learning_rate: 2.5000e-04\n",
            "Epoch 25/50\n",
            "\u001b[1m2735/2735\u001b[0m \u001b[32m━━━━━━━━━━━━━━━━━━━━\u001b[0m\u001b[37m\u001b[0m \u001b[1m10s\u001b[0m 3ms/step - accuracy: 0.8285 - loss: 0.3856 - val_accuracy: 0.8359 - val_loss: 0.3638 - learning_rate: 2.5000e-04\n",
            "Epoch 26/50\n",
            "\u001b[1m2735/2735\u001b[0m \u001b[32m━━━━━━━━━━━━━━━━━━━━\u001b[0m\u001b[37m\u001b[0m \u001b[1m9s\u001b[0m 3ms/step - accuracy: 0.8278 - loss: 0.3855 - val_accuracy: 0.8362 - val_loss: 0.3631 - learning_rate: 2.5000e-04\n",
            "Epoch 27/50\n",
            "\u001b[1m2735/2735\u001b[0m \u001b[32m━━━━━━━━━━━━━━━━━━━━\u001b[0m\u001b[37m\u001b[0m \u001b[1m10s\u001b[0m 4ms/step - accuracy: 0.8312 - loss: 0.3843 - val_accuracy: 0.8368 - val_loss: 0.3638 - learning_rate: 2.5000e-04\n",
            "Epoch 28/50\n",
            "\u001b[1m2735/2735\u001b[0m \u001b[32m━━━━━━━━━━━━━━━━━━━━\u001b[0m\u001b[37m\u001b[0m \u001b[1m10s\u001b[0m 4ms/step - accuracy: 0.8307 - loss: 0.3827 - val_accuracy: 0.8361 - val_loss: 0.3635 - learning_rate: 2.5000e-04\n",
            "Epoch 29/50\n",
            "\u001b[1m2735/2735\u001b[0m \u001b[32m━━━━━━━━━━━━━━━━━━━━\u001b[0m\u001b[37m\u001b[0m \u001b[1m9s\u001b[0m 3ms/step - accuracy: 0.8317 - loss: 0.3817 - val_accuracy: 0.8365 - val_loss: 0.3634 - learning_rate: 2.5000e-04\n",
            "Epoch 30/50\n",
            "\u001b[1m2735/2735\u001b[0m \u001b[32m━━━━━━━━━━━━━━━━━━━━\u001b[0m\u001b[37m\u001b[0m \u001b[1m10s\u001b[0m 4ms/step - accuracy: 0.8314 - loss: 0.3806 - val_accuracy: 0.8364 - val_loss: 0.3627 - learning_rate: 1.2500e-04\n",
            "Epoch 31/50\n",
            "\u001b[1m2735/2735\u001b[0m \u001b[32m━━━━━━━━━━━━━━━━━━━━\u001b[0m\u001b[37m\u001b[0m \u001b[1m10s\u001b[0m 4ms/step - accuracy: 0.8311 - loss: 0.3805 - val_accuracy: 0.8366 - val_loss: 0.3630 - learning_rate: 1.2500e-04\n",
            "Epoch 32/50\n",
            "\u001b[1m2735/2735\u001b[0m \u001b[32m━━━━━━━━━━━━━━━━━━━━\u001b[0m\u001b[37m\u001b[0m \u001b[1m11s\u001b[0m 4ms/step - accuracy: 0.8314 - loss: 0.3821 - val_accuracy: 0.8373 - val_loss: 0.3629 - learning_rate: 1.2500e-04\n",
            "Epoch 33/50\n",
            "\u001b[1m2735/2735\u001b[0m \u001b[32m━━━━━━━━━━━━━━━━━━━━\u001b[0m\u001b[37m\u001b[0m \u001b[1m10s\u001b[0m 4ms/step - accuracy: 0.8319 - loss: 0.3815 - val_accuracy: 0.8371 - val_loss: 0.3626 - learning_rate: 1.2500e-04\n",
            "Epoch 34/50\n",
            "\u001b[1m2735/2735\u001b[0m \u001b[32m━━━━━━━━━━━━━━━━━━━━\u001b[0m\u001b[37m\u001b[0m \u001b[1m10s\u001b[0m 3ms/step - accuracy: 0.8287 - loss: 0.3838 - val_accuracy: 0.8375 - val_loss: 0.3617 - learning_rate: 6.2500e-05\n",
            "Epoch 35/50\n",
            "\u001b[1m2735/2735\u001b[0m \u001b[32m━━━━━━━━━━━━━━━━━━━━\u001b[0m\u001b[37m\u001b[0m \u001b[1m10s\u001b[0m 4ms/step - accuracy: 0.8289 - loss: 0.3841 - val_accuracy: 0.8373 - val_loss: 0.3622 - learning_rate: 6.2500e-05\n",
            "Epoch 36/50\n",
            "\u001b[1m2735/2735\u001b[0m \u001b[32m━━━━━━━━━━━━━━━━━━━━\u001b[0m\u001b[37m\u001b[0m \u001b[1m10s\u001b[0m 4ms/step - accuracy: 0.8318 - loss: 0.3801 - val_accuracy: 0.8372 - val_loss: 0.3623 - learning_rate: 6.2500e-05\n",
            "Epoch 37/50\n",
            "\u001b[1m2735/2735\u001b[0m \u001b[32m━━━━━━━━━━━━━━━━━━━━\u001b[0m\u001b[37m\u001b[0m \u001b[1m10s\u001b[0m 4ms/step - accuracy: 0.8300 - loss: 0.3824 - val_accuracy: 0.8366 - val_loss: 0.3627 - learning_rate: 6.2500e-05\n",
            "Epoch 38/50\n",
            "\u001b[1m2735/2735\u001b[0m \u001b[32m━━━━━━━━━━━━━━━━━━━━\u001b[0m\u001b[37m\u001b[0m \u001b[1m10s\u001b[0m 3ms/step - accuracy: 0.8319 - loss: 0.3807 - val_accuracy: 0.8372 - val_loss: 0.3625 - learning_rate: 3.1250e-05\n",
            "Epoch 39/50\n",
            "\u001b[1m2735/2735\u001b[0m \u001b[32m━━━━━━━━━━━━━━━━━━━━\u001b[0m\u001b[37m\u001b[0m \u001b[1m12s\u001b[0m 4ms/step - accuracy: 0.8299 - loss: 0.3826 - val_accuracy: 0.8366 - val_loss: 0.3629 - learning_rate: 3.1250e-05\n",
            "Epoch 40/50\n",
            "\u001b[1m2735/2735\u001b[0m \u001b[32m━━━━━━━━━━━━━━━━━━━━\u001b[0m\u001b[37m\u001b[0m \u001b[1m11s\u001b[0m 4ms/step - accuracy: 0.8295 - loss: 0.3831 - val_accuracy: 0.8362 - val_loss: 0.3624 - learning_rate: 3.1250e-05\n",
            "Epoch 41/50\n",
            "\u001b[1m2735/2735\u001b[0m \u001b[32m━━━━━━━━━━━━━━━━━━━━\u001b[0m\u001b[37m\u001b[0m \u001b[1m20s\u001b[0m 4ms/step - accuracy: 0.8287 - loss: 0.3846 - val_accuracy: 0.8361 - val_loss: 0.3623 - learning_rate: 1.5625e-05\n",
            "Epoch 42/50\n",
            "\u001b[1m2735/2735\u001b[0m \u001b[32m━━━━━━━━━━━━━━━━━━━━\u001b[0m\u001b[37m\u001b[0m \u001b[1m11s\u001b[0m 4ms/step - accuracy: 0.8301 - loss: 0.3799 - val_accuracy: 0.8362 - val_loss: 0.3628 - learning_rate: 1.5625e-05\n",
            "Epoch 43/50\n",
            "\u001b[1m2735/2735\u001b[0m \u001b[32m━━━━━━━━━━━━━━━━━━━━\u001b[0m\u001b[37m\u001b[0m \u001b[1m20s\u001b[0m 4ms/step - accuracy: 0.8305 - loss: 0.3794 - val_accuracy: 0.8364 - val_loss: 0.3626 - learning_rate: 1.5625e-05\n",
            "Epoch 44/50\n",
            "\u001b[1m2735/2735\u001b[0m \u001b[32m━━━━━━━━━━━━━━━━━━━━\u001b[0m\u001b[37m\u001b[0m \u001b[1m10s\u001b[0m 4ms/step - accuracy: 0.8317 - loss: 0.3785 - val_accuracy: 0.8367 - val_loss: 0.3626 - learning_rate: 7.8125e-06\n"
          ]
        }
      ]
    },
    {
      "cell_type": "markdown",
      "source": [
        "# Further Tunning my model."
      ],
      "metadata": {
        "id": "LR8qLa9aj80f"
      }
    },
    {
      "cell_type": "code",
      "source": [
        "from tensorflow.keras.models import Sequential\n",
        "from tensorflow.keras.layers import Dense, Dropout, BatchNormalization, LeakyReLU\n",
        "from tensorflow.keras.initializers import HeNormal\n",
        "from tensorflow.keras.optimizers import Adam\n",
        "\n"
      ],
      "metadata": {
        "id": "wOJw_zK-kmyB"
      },
      "execution_count": 34,
      "outputs": []
    },
    {
      "cell_type": "code",
      "source": [
        "# model = Sequential([\n",
        "#     Dense(256, kernel_initializer=HeNormal()),\n",
        "#     LeakyReLU(negative_slope=0.01),\n",
        "#     BatchNormalization(),\n",
        "#     Dropout(0.3),\n",
        "\n",
        "#     Dense(128, kernel_initializer=HeNormal()),\n",
        "#     LeakyReLU(negative_slope=0.01),\n",
        "#     BatchNormalization(),\n",
        "#     Dropout(0.3),\n",
        "\n",
        "#     Dense(64, kernel_initializer=HeNormal()),\n",
        "#     LeakyReLU(negative_slope=0.01),\n",
        "#     BatchNormalization(),\n",
        "#     Dropout(0.2),\n",
        "\n",
        "#     Dense(1, activation='sigmoid')  # Output layer\n",
        "# ])"
      ],
      "metadata": {
        "id": "9wgdjntAkAuu"
      },
      "execution_count": 33,
      "outputs": []
    },
    {
      "cell_type": "code",
      "source": [
        "# model.compile(\n",
        "#     optimizer=Adam(learning_rate=0.0005),\n",
        "#     loss='binary_crossentropy',\n",
        "#     metrics=['accuracy']\n",
        "# )\n",
        "\n",
        "# print(\"Optimized model compiled and ready!\")"
      ],
      "metadata": {
        "colab": {
          "base_uri": "https://localhost:8080/"
        },
        "id": "soUzIKQakoyE",
        "outputId": "3ce9f072-d8ec-4894-9a30-9ca8f7863c7b"
      },
      "execution_count": 35,
      "outputs": [
        {
          "output_type": "stream",
          "name": "stdout",
          "text": [
            "Optimized model compiled and ready!\n"
          ]
        }
      ]
    },
    {
      "cell_type": "code",
      "source": [
        "# from tensorflow.keras.callbacks import EarlyStopping, ReduceLROnPlateau\n",
        "\n",
        "# callbacks = [\n",
        "#     EarlyStopping(monitor='val_loss', patience=10, restore_best_weights=True),\n",
        "#     ReduceLROnPlateau(monitor='val_loss', factor=0.5, patience=3)\n",
        "# ]"
      ],
      "metadata": {
        "id": "szbz1cuYkswp"
      },
      "execution_count": 36,
      "outputs": []
    },
    {
      "cell_type": "code",
      "source": [
        "# history = model.fit(\n",
        "#     X_train, y_train,\n",
        "#     validation_data=(X_val, y_val),\n",
        "#     epochs=50,\n",
        "#     batch_size=128,  # Increased batch size\n",
        "#     callbacks=callbacks,\n",
        "#     verbose=1\n",
        "# )"
      ],
      "metadata": {
        "colab": {
          "base_uri": "https://localhost:8080/"
        },
        "id": "JhbSl5kmkvXb",
        "outputId": "66d6e44e-5df2-4fb8-d318-18e09922d4cd"
      },
      "execution_count": 37,
      "outputs": [
        {
          "output_type": "stream",
          "name": "stdout",
          "text": [
            "Epoch 1/50\n",
            "\u001b[1m1368/1368\u001b[0m \u001b[32m━━━━━━━━━━━━━━━━━━━━\u001b[0m\u001b[37m\u001b[0m \u001b[1m15s\u001b[0m 6ms/step - accuracy: 0.7270 - loss: 0.5467 - val_accuracy: 0.8254 - val_loss: 0.3874 - learning_rate: 5.0000e-04\n",
            "Epoch 2/50\n",
            "\u001b[1m1368/1368\u001b[0m \u001b[32m━━━━━━━━━━━━━━━━━━━━\u001b[0m\u001b[37m\u001b[0m \u001b[1m6s\u001b[0m 4ms/step - accuracy: 0.8058 - loss: 0.4233 - val_accuracy: 0.8295 - val_loss: 0.3759 - learning_rate: 5.0000e-04\n",
            "Epoch 3/50\n",
            "\u001b[1m1368/1368\u001b[0m \u001b[32m━━━━━━━━━━━━━━━━━━━━\u001b[0m\u001b[37m\u001b[0m \u001b[1m4s\u001b[0m 3ms/step - accuracy: 0.8174 - loss: 0.4059 - val_accuracy: 0.8307 - val_loss: 0.3718 - learning_rate: 5.0000e-04\n",
            "Epoch 4/50\n",
            "\u001b[1m1368/1368\u001b[0m \u001b[32m━━━━━━━━━━━━━━━━━━━━\u001b[0m\u001b[37m\u001b[0m \u001b[1m5s\u001b[0m 3ms/step - accuracy: 0.8226 - loss: 0.3968 - val_accuracy: 0.8322 - val_loss: 0.3698 - learning_rate: 5.0000e-04\n",
            "Epoch 5/50\n",
            "\u001b[1m1368/1368\u001b[0m \u001b[32m━━━━━━━━━━━━━━━━━━━━\u001b[0m\u001b[37m\u001b[0m \u001b[1m6s\u001b[0m 4ms/step - accuracy: 0.8226 - loss: 0.3948 - val_accuracy: 0.8332 - val_loss: 0.3676 - learning_rate: 5.0000e-04\n",
            "Epoch 6/50\n",
            "\u001b[1m1368/1368\u001b[0m \u001b[32m━━━━━━━━━━━━━━━━━━━━\u001b[0m\u001b[37m\u001b[0m \u001b[1m10s\u001b[0m 4ms/step - accuracy: 0.8239 - loss: 0.3906 - val_accuracy: 0.8327 - val_loss: 0.3679 - learning_rate: 5.0000e-04\n",
            "Epoch 7/50\n",
            "\u001b[1m1368/1368\u001b[0m \u001b[32m━━━━━━━━━━━━━━━━━━━━\u001b[0m\u001b[37m\u001b[0m \u001b[1m10s\u001b[0m 3ms/step - accuracy: 0.8255 - loss: 0.3886 - val_accuracy: 0.8344 - val_loss: 0.3652 - learning_rate: 5.0000e-04\n",
            "Epoch 8/50\n",
            "\u001b[1m1368/1368\u001b[0m \u001b[32m━━━━━━━━━━━━━━━━━━━━\u001b[0m\u001b[37m\u001b[0m \u001b[1m6s\u001b[0m 4ms/step - accuracy: 0.8289 - loss: 0.3834 - val_accuracy: 0.8350 - val_loss: 0.3646 - learning_rate: 5.0000e-04\n",
            "Epoch 9/50\n",
            "\u001b[1m1368/1368\u001b[0m \u001b[32m━━━━━━━━━━━━━━━━━━━━\u001b[0m\u001b[37m\u001b[0m \u001b[1m5s\u001b[0m 4ms/step - accuracy: 0.8289 - loss: 0.3832 - val_accuracy: 0.8350 - val_loss: 0.3644 - learning_rate: 5.0000e-04\n",
            "Epoch 10/50\n",
            "\u001b[1m1368/1368\u001b[0m \u001b[32m━━━━━━━━━━━━━━━━━━━━\u001b[0m\u001b[37m\u001b[0m \u001b[1m5s\u001b[0m 4ms/step - accuracy: 0.8302 - loss: 0.3814 - val_accuracy: 0.8346 - val_loss: 0.3639 - learning_rate: 5.0000e-04\n",
            "Epoch 11/50\n",
            "\u001b[1m1368/1368\u001b[0m \u001b[32m━━━━━━━━━━━━━━━━━━━━\u001b[0m\u001b[37m\u001b[0m \u001b[1m5s\u001b[0m 4ms/step - accuracy: 0.8299 - loss: 0.3796 - val_accuracy: 0.8355 - val_loss: 0.3629 - learning_rate: 5.0000e-04\n",
            "Epoch 12/50\n",
            "\u001b[1m1368/1368\u001b[0m \u001b[32m━━━━━━━━━━━━━━━━━━━━\u001b[0m\u001b[37m\u001b[0m \u001b[1m4s\u001b[0m 3ms/step - accuracy: 0.8294 - loss: 0.3805 - val_accuracy: 0.8355 - val_loss: 0.3631 - learning_rate: 5.0000e-04\n",
            "Epoch 13/50\n",
            "\u001b[1m1368/1368\u001b[0m \u001b[32m━━━━━━━━━━━━━━━━━━━━\u001b[0m\u001b[37m\u001b[0m \u001b[1m6s\u001b[0m 5ms/step - accuracy: 0.8315 - loss: 0.3787 - val_accuracy: 0.8351 - val_loss: 0.3623 - learning_rate: 5.0000e-04\n",
            "Epoch 14/50\n",
            "\u001b[1m1368/1368\u001b[0m \u001b[32m━━━━━━━━━━━━━━━━━━━━\u001b[0m\u001b[37m\u001b[0m \u001b[1m5s\u001b[0m 3ms/step - accuracy: 0.8316 - loss: 0.3770 - val_accuracy: 0.8362 - val_loss: 0.3617 - learning_rate: 5.0000e-04\n",
            "Epoch 15/50\n",
            "\u001b[1m1368/1368\u001b[0m \u001b[32m━━━━━━━━━━━━━━━━━━━━\u001b[0m\u001b[37m\u001b[0m \u001b[1m6s\u001b[0m 4ms/step - accuracy: 0.8320 - loss: 0.3762 - val_accuracy: 0.8357 - val_loss: 0.3618 - learning_rate: 5.0000e-04\n",
            "Epoch 16/50\n",
            "\u001b[1m1368/1368\u001b[0m \u001b[32m━━━━━━━━━━━━━━━━━━━━\u001b[0m\u001b[37m\u001b[0m \u001b[1m5s\u001b[0m 4ms/step - accuracy: 0.8337 - loss: 0.3758 - val_accuracy: 0.8372 - val_loss: 0.3614 - learning_rate: 5.0000e-04\n",
            "Epoch 17/50\n",
            "\u001b[1m1368/1368\u001b[0m \u001b[32m━━━━━━━━━━━━━━━━━━━━\u001b[0m\u001b[37m\u001b[0m \u001b[1m5s\u001b[0m 3ms/step - accuracy: 0.8324 - loss: 0.3757 - val_accuracy: 0.8370 - val_loss: 0.3605 - learning_rate: 5.0000e-04\n",
            "Epoch 18/50\n",
            "\u001b[1m1368/1368\u001b[0m \u001b[32m━━━━━━━━━━━━━━━━━━━━\u001b[0m\u001b[37m\u001b[0m \u001b[1m7s\u001b[0m 5ms/step - accuracy: 0.8324 - loss: 0.3761 - val_accuracy: 0.8372 - val_loss: 0.3608 - learning_rate: 5.0000e-04\n",
            "Epoch 19/50\n",
            "\u001b[1m1368/1368\u001b[0m \u001b[32m━━━━━━━━━━━━━━━━━━━━\u001b[0m\u001b[37m\u001b[0m \u001b[1m10s\u001b[0m 4ms/step - accuracy: 0.8330 - loss: 0.3746 - val_accuracy: 0.8382 - val_loss: 0.3608 - learning_rate: 5.0000e-04\n",
            "Epoch 20/50\n",
            "\u001b[1m1368/1368\u001b[0m \u001b[32m━━━━━━━━━━━━━━━━━━━━\u001b[0m\u001b[37m\u001b[0m \u001b[1m5s\u001b[0m 4ms/step - accuracy: 0.8360 - loss: 0.3721 - val_accuracy: 0.8381 - val_loss: 0.3616 - learning_rate: 5.0000e-04\n",
            "Epoch 21/50\n",
            "\u001b[1m1368/1368\u001b[0m \u001b[32m━━━━━━━━━━━━━━━━━━━━\u001b[0m\u001b[37m\u001b[0m \u001b[1m5s\u001b[0m 4ms/step - accuracy: 0.8348 - loss: 0.3716 - val_accuracy: 0.8380 - val_loss: 0.3594 - learning_rate: 2.5000e-04\n",
            "Epoch 22/50\n",
            "\u001b[1m1368/1368\u001b[0m \u001b[32m━━━━━━━━━━━━━━━━━━━━\u001b[0m\u001b[37m\u001b[0m \u001b[1m6s\u001b[0m 4ms/step - accuracy: 0.8350 - loss: 0.3716 - val_accuracy: 0.8384 - val_loss: 0.3591 - learning_rate: 2.5000e-04\n",
            "Epoch 23/50\n",
            "\u001b[1m1368/1368\u001b[0m \u001b[32m━━━━━━━━━━━━━━━━━━━━\u001b[0m\u001b[37m\u001b[0m \u001b[1m4s\u001b[0m 3ms/step - accuracy: 0.8341 - loss: 0.3717 - val_accuracy: 0.8391 - val_loss: 0.3593 - learning_rate: 2.5000e-04\n",
            "Epoch 24/50\n",
            "\u001b[1m1368/1368\u001b[0m \u001b[32m━━━━━━━━━━━━━━━━━━━━\u001b[0m\u001b[37m\u001b[0m \u001b[1m5s\u001b[0m 3ms/step - accuracy: 0.8346 - loss: 0.3698 - val_accuracy: 0.8381 - val_loss: 0.3586 - learning_rate: 2.5000e-04\n",
            "Epoch 25/50\n",
            "\u001b[1m1368/1368\u001b[0m \u001b[32m━━━━━━━━━━━━━━━━━━━━\u001b[0m\u001b[37m\u001b[0m \u001b[1m5s\u001b[0m 4ms/step - accuracy: 0.8352 - loss: 0.3703 - val_accuracy: 0.8377 - val_loss: 0.3590 - learning_rate: 2.5000e-04\n",
            "Epoch 26/50\n",
            "\u001b[1m1368/1368\u001b[0m \u001b[32m━━━━━━━━━━━━━━━━━━━━\u001b[0m\u001b[37m\u001b[0m \u001b[1m5s\u001b[0m 3ms/step - accuracy: 0.8361 - loss: 0.3695 - val_accuracy: 0.8387 - val_loss: 0.3584 - learning_rate: 2.5000e-04\n",
            "Epoch 27/50\n",
            "\u001b[1m1368/1368\u001b[0m \u001b[32m━━━━━━━━━━━━━━━━━━━━\u001b[0m\u001b[37m\u001b[0m \u001b[1m6s\u001b[0m 4ms/step - accuracy: 0.8368 - loss: 0.3689 - val_accuracy: 0.8390 - val_loss: 0.3580 - learning_rate: 2.5000e-04\n",
            "Epoch 28/50\n",
            "\u001b[1m1368/1368\u001b[0m \u001b[32m━━━━━━━━━━━━━━━━━━━━\u001b[0m\u001b[37m\u001b[0m \u001b[1m9s\u001b[0m 3ms/step - accuracy: 0.8346 - loss: 0.3715 - val_accuracy: 0.8390 - val_loss: 0.3582 - learning_rate: 2.5000e-04\n",
            "Epoch 29/50\n",
            "\u001b[1m1368/1368\u001b[0m \u001b[32m━━━━━━━━━━━━━━━━━━━━\u001b[0m\u001b[37m\u001b[0m \u001b[1m7s\u001b[0m 5ms/step - accuracy: 0.8363 - loss: 0.3690 - val_accuracy: 0.8395 - val_loss: 0.3583 - learning_rate: 2.5000e-04\n",
            "Epoch 30/50\n",
            "\u001b[1m1368/1368\u001b[0m \u001b[32m━━━━━━━━━━━━━━━━━━━━\u001b[0m\u001b[37m\u001b[0m \u001b[1m5s\u001b[0m 3ms/step - accuracy: 0.8358 - loss: 0.3692 - val_accuracy: 0.8388 - val_loss: 0.3585 - learning_rate: 2.5000e-04\n",
            "Epoch 31/50\n",
            "\u001b[1m1368/1368\u001b[0m \u001b[32m━━━━━━━━━━━━━━━━━━━━\u001b[0m\u001b[37m\u001b[0m \u001b[1m6s\u001b[0m 4ms/step - accuracy: 0.8339 - loss: 0.3712 - val_accuracy: 0.8390 - val_loss: 0.3583 - learning_rate: 1.2500e-04\n",
            "Epoch 32/50\n",
            "\u001b[1m1368/1368\u001b[0m \u001b[32m━━━━━━━━━━━━━━━━━━━━\u001b[0m\u001b[37m\u001b[0m \u001b[1m5s\u001b[0m 3ms/step - accuracy: 0.8362 - loss: 0.3689 - val_accuracy: 0.8394 - val_loss: 0.3579 - learning_rate: 1.2500e-04\n",
            "Epoch 33/50\n",
            "\u001b[1m1368/1368\u001b[0m \u001b[32m━━━━━━━━━━━━━━━━━━━━\u001b[0m\u001b[37m\u001b[0m \u001b[1m5s\u001b[0m 3ms/step - accuracy: 0.8380 - loss: 0.3652 - val_accuracy: 0.8387 - val_loss: 0.3580 - learning_rate: 1.2500e-04\n",
            "Epoch 34/50\n",
            "\u001b[1m1368/1368\u001b[0m \u001b[32m━━━━━━━━━━━━━━━━━━━━\u001b[0m\u001b[37m\u001b[0m \u001b[1m6s\u001b[0m 4ms/step - accuracy: 0.8358 - loss: 0.3693 - val_accuracy: 0.8392 - val_loss: 0.3578 - learning_rate: 6.2500e-05\n",
            "Epoch 35/50\n",
            "\u001b[1m1368/1368\u001b[0m \u001b[32m━━━━━━━━━━━━━━━━━━━━\u001b[0m\u001b[37m\u001b[0m \u001b[1m10s\u001b[0m 4ms/step - accuracy: 0.8344 - loss: 0.3702 - val_accuracy: 0.8393 - val_loss: 0.3579 - learning_rate: 6.2500e-05\n",
            "Epoch 36/50\n",
            "\u001b[1m1368/1368\u001b[0m \u001b[32m━━━━━━━━━━━━━━━━━━━━\u001b[0m\u001b[37m\u001b[0m \u001b[1m9s\u001b[0m 3ms/step - accuracy: 0.8366 - loss: 0.3665 - val_accuracy: 0.8392 - val_loss: 0.3579 - learning_rate: 6.2500e-05\n",
            "Epoch 37/50\n",
            "\u001b[1m1368/1368\u001b[0m \u001b[32m━━━━━━━━━━━━━━━━━━━━\u001b[0m\u001b[37m\u001b[0m \u001b[1m6s\u001b[0m 4ms/step - accuracy: 0.8369 - loss: 0.3672 - val_accuracy: 0.8393 - val_loss: 0.3578 - learning_rate: 6.2500e-05\n",
            "Epoch 38/50\n",
            "\u001b[1m1368/1368\u001b[0m \u001b[32m━━━━━━━━━━━━━━━━━━━━\u001b[0m\u001b[37m\u001b[0m \u001b[1m5s\u001b[0m 3ms/step - accuracy: 0.8383 - loss: 0.3655 - val_accuracy: 0.8392 - val_loss: 0.3577 - learning_rate: 3.1250e-05\n",
            "Epoch 39/50\n",
            "\u001b[1m1368/1368\u001b[0m \u001b[32m━━━━━━━━━━━━━━━━━━━━\u001b[0m\u001b[37m\u001b[0m \u001b[1m4s\u001b[0m 3ms/step - accuracy: 0.8377 - loss: 0.3688 - val_accuracy: 0.8395 - val_loss: 0.3576 - learning_rate: 3.1250e-05\n",
            "Epoch 40/50\n",
            "\u001b[1m1368/1368\u001b[0m \u001b[32m━━━━━━━━━━━━━━━━━━━━\u001b[0m\u001b[37m\u001b[0m \u001b[1m6s\u001b[0m 4ms/step - accuracy: 0.8364 - loss: 0.3683 - val_accuracy: 0.8391 - val_loss: 0.3577 - learning_rate: 3.1250e-05\n",
            "Epoch 41/50\n",
            "\u001b[1m1368/1368\u001b[0m \u001b[32m━━━━━━━━━━━━━━━━━━━━\u001b[0m\u001b[37m\u001b[0m \u001b[1m10s\u001b[0m 4ms/step - accuracy: 0.8354 - loss: 0.3700 - val_accuracy: 0.8391 - val_loss: 0.3577 - learning_rate: 3.1250e-05\n",
            "Epoch 42/50\n",
            "\u001b[1m1368/1368\u001b[0m \u001b[32m━━━━━━━━━━━━━━━━━━━━\u001b[0m\u001b[37m\u001b[0m \u001b[1m5s\u001b[0m 4ms/step - accuracy: 0.8371 - loss: 0.3662 - val_accuracy: 0.8389 - val_loss: 0.3576 - learning_rate: 3.1250e-05\n",
            "Epoch 43/50\n",
            "\u001b[1m1368/1368\u001b[0m \u001b[32m━━━━━━━━━━━━━━━━━━━━\u001b[0m\u001b[37m\u001b[0m \u001b[1m5s\u001b[0m 3ms/step - accuracy: 0.8352 - loss: 0.3691 - val_accuracy: 0.8392 - val_loss: 0.3576 - learning_rate: 1.5625e-05\n",
            "Epoch 44/50\n",
            "\u001b[1m1368/1368\u001b[0m \u001b[32m━━━━━━━━━━━━━━━━━━━━\u001b[0m\u001b[37m\u001b[0m \u001b[1m6s\u001b[0m 4ms/step - accuracy: 0.8366 - loss: 0.3669 - val_accuracy: 0.8390 - val_loss: 0.3577 - learning_rate: 1.5625e-05\n",
            "Epoch 45/50\n",
            "\u001b[1m1368/1368\u001b[0m \u001b[32m━━━━━━━━━━━━━━━━━━━━\u001b[0m\u001b[37m\u001b[0m \u001b[1m5s\u001b[0m 3ms/step - accuracy: 0.8389 - loss: 0.3655 - val_accuracy: 0.8391 - val_loss: 0.3577 - learning_rate: 1.5625e-05\n",
            "Epoch 46/50\n",
            "\u001b[1m1368/1368\u001b[0m \u001b[32m━━━━━━━━━━━━━━━━━━━━\u001b[0m\u001b[37m\u001b[0m \u001b[1m5s\u001b[0m 4ms/step - accuracy: 0.8385 - loss: 0.3648 - val_accuracy: 0.8394 - val_loss: 0.3576 - learning_rate: 7.8125e-06\n",
            "Epoch 47/50\n",
            "\u001b[1m1368/1368\u001b[0m \u001b[32m━━━━━━━━━━━━━━━━━━━━\u001b[0m\u001b[37m\u001b[0m \u001b[1m5s\u001b[0m 4ms/step - accuracy: 0.8369 - loss: 0.3659 - val_accuracy: 0.8394 - val_loss: 0.3577 - learning_rate: 7.8125e-06\n",
            "Epoch 48/50\n",
            "\u001b[1m1368/1368\u001b[0m \u001b[32m━━━━━━━━━━━━━━━━━━━━\u001b[0m\u001b[37m\u001b[0m \u001b[1m5s\u001b[0m 4ms/step - accuracy: 0.8364 - loss: 0.3664 - val_accuracy: 0.8390 - val_loss: 0.3577 - learning_rate: 7.8125e-06\n",
            "Epoch 49/50\n",
            "\u001b[1m1368/1368\u001b[0m \u001b[32m━━━━━━━━━━━━━━━━━━━━\u001b[0m\u001b[37m\u001b[0m \u001b[1m6s\u001b[0m 4ms/step - accuracy: 0.8376 - loss: 0.3660 - val_accuracy: 0.8393 - val_loss: 0.3576 - learning_rate: 3.9063e-06\n",
            "Epoch 50/50\n",
            "\u001b[1m1368/1368\u001b[0m \u001b[32m━━━━━━━━━━━━━━━━━━━━\u001b[0m\u001b[37m\u001b[0m \u001b[1m9s\u001b[0m 3ms/step - accuracy: 0.8357 - loss: 0.3674 - val_accuracy: 0.8394 - val_loss: 0.3576 - learning_rate: 3.9063e-06\n"
          ]
        }
      ]
    },
    {
      "cell_type": "markdown",
      "source": [
        "## Tunning my model to push it a bit further."
      ],
      "metadata": {
        "id": "1IwfafK_mn52"
      }
    },
    {
      "cell_type": "code",
      "source": [
        "model = Sequential([\n",
        "    Dense(256, kernel_initializer=HeNormal(), kernel_regularizer=l2(1e-4)),\n",
        "    LeakyReLU(negative_slope=0.01),\n",
        "    LayerNormalization(),\n",
        "    Dropout(0.3),\n",
        "\n",
        "    Dense(128, activation=swish, kernel_initializer=HeNormal(), kernel_regularizer=l2(1e-4)),\n",
        "    LayerNormalization(),\n",
        "    Dropout(0.3),\n",
        "\n",
        "    Dense(64, kernel_initializer=HeNormal(), kernel_regularizer=l2(1e-4)),\n",
        "    LeakyReLU(negative_slope=0.01),\n",
        "    LayerNormalization(),\n",
        "    Dropout(0.2),\n",
        "\n",
        "    Dense(1, activation='sigmoid')\n",
        "])"
      ],
      "metadata": {
        "id": "Zw0mG5iRmuCM"
      },
      "execution_count": 39,
      "outputs": []
    },
    {
      "cell_type": "code",
      "source": [
        "model = Sequential([\n",
        "    Dense(256, kernel_initializer=HeNormal(), kernel_regularizer=l2(1e-4)),\n",
        "    LeakyReLU(negative_slope=0.01),\n",
        "    LayerNormalization(),\n",
        "    Dropout(0.3),\n",
        "\n",
        "    Dense(128, activation=swish, kernel_initializer=HeNormal(), kernel_regularizer=l2(1e-4)),\n",
        "    LayerNormalization(),\n",
        "    Dropout(0.3),\n",
        "\n",
        "    Dense(64, kernel_initializer=HeNormal(), kernel_regularizer=l2(1e-4)),\n",
        "    LeakyReLU(negative_slope=0.01),\n",
        "    LayerNormalization(),\n",
        "    Dropout(0.2),\n",
        "\n",
        "    Dense(1, activation='sigmoid')\n",
        "])"
      ],
      "metadata": {
        "id": "S3jMgvfzmwOA"
      },
      "execution_count": 40,
      "outputs": []
    },
    {
      "cell_type": "code",
      "source": [
        "model.compile(\n",
        "    optimizer=Adam(learning_rate=0.0005),\n",
        "    loss='binary_crossentropy',\n",
        "    metrics=['accuracy']\n",
        ")\n",
        "\n",
        "print(\" Advanced model compiled successfully!\")"
      ],
      "metadata": {
        "colab": {
          "base_uri": "https://localhost:8080/"
        },
        "id": "CRdmuod-myRW",
        "outputId": "9c29f331-3a58-484b-97eb-f7edd5b9c454"
      },
      "execution_count": 44,
      "outputs": [
        {
          "output_type": "stream",
          "name": "stdout",
          "text": [
            " Advanced model compiled successfully!\n"
          ]
        }
      ]
    },
    {
      "cell_type": "code",
      "source": [
        "callbacks = [\n",
        "    EarlyStopping(monitor='val_loss', patience=10, restore_best_weights=True),\n",
        "    ReduceLROnPlateau(monitor='val_loss', factor=0.5, patience=3)\n",
        "]"
      ],
      "metadata": {
        "id": "M2ihZNium03-"
      },
      "execution_count": 42,
      "outputs": []
    },
    {
      "cell_type": "code",
      "source": [
        "history = model.fit(\n",
        "    X_train, y_train,\n",
        "    validation_data=(X_val, y_val),\n",
        "    epochs=50,\n",
        "    batch_size=128,\n",
        "    callbacks=callbacks,\n",
        "    verbose=1\n",
        ")"
      ],
      "metadata": {
        "colab": {
          "base_uri": "https://localhost:8080/"
        },
        "id": "99hKq1qAm5FV",
        "outputId": "fa505f33-3b29-4997-8a73-459dafeb23fd"
      },
      "execution_count": 43,
      "outputs": [
        {
          "output_type": "stream",
          "name": "stdout",
          "text": [
            "Epoch 1/50\n",
            "\u001b[1m1368/1368\u001b[0m \u001b[32m━━━━━━━━━━━━━━━━━━━━\u001b[0m\u001b[37m\u001b[0m \u001b[1m17s\u001b[0m 7ms/step - accuracy: 0.7488 - loss: 0.6064 - val_accuracy: 0.8259 - val_loss: 0.4708 - learning_rate: 5.0000e-04\n",
            "Epoch 2/50\n",
            "\u001b[1m1368/1368\u001b[0m \u001b[32m━━━━━━━━━━━━━━━━━━━━\u001b[0m\u001b[37m\u001b[0m \u001b[1m5s\u001b[0m 4ms/step - accuracy: 0.8110 - loss: 0.4963 - val_accuracy: 0.8282 - val_loss: 0.4540 - learning_rate: 5.0000e-04\n",
            "Epoch 3/50\n",
            "\u001b[1m1368/1368\u001b[0m \u001b[32m━━━━━━━━━━━━━━━━━━━━\u001b[0m\u001b[37m\u001b[0m \u001b[1m6s\u001b[0m 4ms/step - accuracy: 0.8199 - loss: 0.4713 - val_accuracy: 0.8290 - val_loss: 0.4394 - learning_rate: 5.0000e-04\n",
            "Epoch 4/50\n",
            "\u001b[1m1368/1368\u001b[0m \u001b[32m━━━━━━━━━━━━━━━━━━━━\u001b[0m\u001b[37m\u001b[0m \u001b[1m9s\u001b[0m 3ms/step - accuracy: 0.8228 - loss: 0.4544 - val_accuracy: 0.8320 - val_loss: 0.4249 - learning_rate: 5.0000e-04\n",
            "Epoch 5/50\n",
            "\u001b[1m1368/1368\u001b[0m \u001b[32m━━━━━━━━━━━━━━━━━━━━\u001b[0m\u001b[37m\u001b[0m \u001b[1m6s\u001b[0m 4ms/step - accuracy: 0.8258 - loss: 0.4398 - val_accuracy: 0.8345 - val_loss: 0.4163 - learning_rate: 5.0000e-04\n",
            "Epoch 6/50\n",
            "\u001b[1m1368/1368\u001b[0m \u001b[32m━━━━━━━━━━━━━━━━━━━━\u001b[0m\u001b[37m\u001b[0m \u001b[1m4s\u001b[0m 3ms/step - accuracy: 0.8273 - loss: 0.4304 - val_accuracy: 0.8346 - val_loss: 0.4076 - learning_rate: 5.0000e-04\n",
            "Epoch 7/50\n",
            "\u001b[1m1368/1368\u001b[0m \u001b[32m━━━━━━━━━━━━━━━━━━━━\u001b[0m\u001b[37m\u001b[0m \u001b[1m7s\u001b[0m 4ms/step - accuracy: 0.8274 - loss: 0.4222 - val_accuracy: 0.8344 - val_loss: 0.4014 - learning_rate: 5.0000e-04\n",
            "Epoch 8/50\n",
            "\u001b[1m1368/1368\u001b[0m \u001b[32m━━━━━━━━━━━━━━━━━━━━\u001b[0m\u001b[37m\u001b[0m \u001b[1m9s\u001b[0m 3ms/step - accuracy: 0.8300 - loss: 0.4160 - val_accuracy: 0.8346 - val_loss: 0.3981 - learning_rate: 5.0000e-04\n",
            "Epoch 9/50\n",
            "\u001b[1m1368/1368\u001b[0m \u001b[32m━━━━━━━━━━━━━━━━━━━━\u001b[0m\u001b[37m\u001b[0m \u001b[1m5s\u001b[0m 4ms/step - accuracy: 0.8304 - loss: 0.4078 - val_accuracy: 0.8346 - val_loss: 0.3944 - learning_rate: 5.0000e-04\n",
            "Epoch 10/50\n",
            "\u001b[1m1368/1368\u001b[0m \u001b[32m━━━━━━━━━━━━━━━━━━━━\u001b[0m\u001b[37m\u001b[0m \u001b[1m9s\u001b[0m 3ms/step - accuracy: 0.8315 - loss: 0.4052 - val_accuracy: 0.8343 - val_loss: 0.3920 - learning_rate: 5.0000e-04\n",
            "Epoch 11/50\n",
            "\u001b[1m1368/1368\u001b[0m \u001b[32m━━━━━━━━━━━━━━━━━━━━\u001b[0m\u001b[37m\u001b[0m \u001b[1m6s\u001b[0m 4ms/step - accuracy: 0.8307 - loss: 0.4020 - val_accuracy: 0.8354 - val_loss: 0.3863 - learning_rate: 5.0000e-04\n",
            "Epoch 12/50\n",
            "\u001b[1m1368/1368\u001b[0m \u001b[32m━━━━━━━━━━━━━━━━━━━━\u001b[0m\u001b[37m\u001b[0m \u001b[1m10s\u001b[0m 4ms/step - accuracy: 0.8321 - loss: 0.3979 - val_accuracy: 0.8353 - val_loss: 0.3850 - learning_rate: 5.0000e-04\n",
            "Epoch 13/50\n",
            "\u001b[1m1368/1368\u001b[0m \u001b[32m━━━━━━━━━━━━━━━━━━━━\u001b[0m\u001b[37m\u001b[0m \u001b[1m5s\u001b[0m 4ms/step - accuracy: 0.8335 - loss: 0.3942 - val_accuracy: 0.8370 - val_loss: 0.3823 - learning_rate: 5.0000e-04\n",
            "Epoch 14/50\n",
            "\u001b[1m1368/1368\u001b[0m \u001b[32m━━━━━━━━━━━━━━━━━━━━\u001b[0m\u001b[37m\u001b[0m \u001b[1m4s\u001b[0m 3ms/step - accuracy: 0.8339 - loss: 0.3905 - val_accuracy: 0.8361 - val_loss: 0.3828 - learning_rate: 5.0000e-04\n",
            "Epoch 15/50\n",
            "\u001b[1m1368/1368\u001b[0m \u001b[32m━━━━━━━━━━━━━━━━━━━━\u001b[0m\u001b[37m\u001b[0m \u001b[1m7s\u001b[0m 4ms/step - accuracy: 0.8333 - loss: 0.3903 - val_accuracy: 0.8351 - val_loss: 0.3808 - learning_rate: 5.0000e-04\n",
            "Epoch 16/50\n",
            "\u001b[1m1368/1368\u001b[0m \u001b[32m━━━━━━━━━━━━━━━━━━━━\u001b[0m\u001b[37m\u001b[0m \u001b[1m9s\u001b[0m 3ms/step - accuracy: 0.8347 - loss: 0.3881 - val_accuracy: 0.8362 - val_loss: 0.3806 - learning_rate: 5.0000e-04\n",
            "Epoch 17/50\n",
            "\u001b[1m1368/1368\u001b[0m \u001b[32m━━━━━━━━━━━━━━━━━━━━\u001b[0m\u001b[37m\u001b[0m \u001b[1m6s\u001b[0m 4ms/step - accuracy: 0.8359 - loss: 0.3846 - val_accuracy: 0.8353 - val_loss: 0.3820 - learning_rate: 5.0000e-04\n",
            "Epoch 18/50\n",
            "\u001b[1m1368/1368\u001b[0m \u001b[32m━━━━━━━━━━━━━━━━━━━━\u001b[0m\u001b[37m\u001b[0m \u001b[1m10s\u001b[0m 4ms/step - accuracy: 0.8367 - loss: 0.3836 - val_accuracy: 0.8359 - val_loss: 0.3789 - learning_rate: 5.0000e-04\n",
            "Epoch 19/50\n",
            "\u001b[1m1368/1368\u001b[0m \u001b[32m━━━━━━━━━━━━━━━━━━━━\u001b[0m\u001b[37m\u001b[0m \u001b[1m9s\u001b[0m 3ms/step - accuracy: 0.8360 - loss: 0.3829 - val_accuracy: 0.8374 - val_loss: 0.3771 - learning_rate: 5.0000e-04\n",
            "Epoch 20/50\n",
            "\u001b[1m1368/1368\u001b[0m \u001b[32m━━━━━━━━━━━━━━━━━━━━\u001b[0m\u001b[37m\u001b[0m \u001b[1m6s\u001b[0m 4ms/step - accuracy: 0.8361 - loss: 0.3826 - val_accuracy: 0.8367 - val_loss: 0.3782 - learning_rate: 5.0000e-04\n",
            "Epoch 21/50\n",
            "\u001b[1m1368/1368\u001b[0m \u001b[32m━━━━━━━━━━━━━━━━━━━━\u001b[0m\u001b[37m\u001b[0m \u001b[1m5s\u001b[0m 3ms/step - accuracy: 0.8354 - loss: 0.3835 - val_accuracy: 0.8371 - val_loss: 0.3785 - learning_rate: 5.0000e-04\n",
            "Epoch 22/50\n",
            "\u001b[1m1368/1368\u001b[0m \u001b[32m━━━━━━━━━━━━━━━━━━━━\u001b[0m\u001b[37m\u001b[0m \u001b[1m4s\u001b[0m 3ms/step - accuracy: 0.8339 - loss: 0.3838 - val_accuracy: 0.8366 - val_loss: 0.3767 - learning_rate: 5.0000e-04\n",
            "Epoch 23/50\n",
            "\u001b[1m1368/1368\u001b[0m \u001b[32m━━━━━━━━━━━━━━━━━━━━\u001b[0m\u001b[37m\u001b[0m \u001b[1m7s\u001b[0m 5ms/step - accuracy: 0.8364 - loss: 0.3817 - val_accuracy: 0.8369 - val_loss: 0.3749 - learning_rate: 5.0000e-04\n",
            "Epoch 24/50\n",
            "\u001b[1m1368/1368\u001b[0m \u001b[32m━━━━━━━━━━━━━━━━━━━━\u001b[0m\u001b[37m\u001b[0m \u001b[1m5s\u001b[0m 4ms/step - accuracy: 0.8353 - loss: 0.3814 - val_accuracy: 0.8365 - val_loss: 0.3758 - learning_rate: 5.0000e-04\n",
            "Epoch 25/50\n",
            "\u001b[1m1368/1368\u001b[0m \u001b[32m━━━━━━━━━━━━━━━━━━━━\u001b[0m\u001b[37m\u001b[0m \u001b[1m6s\u001b[0m 4ms/step - accuracy: 0.8355 - loss: 0.3816 - val_accuracy: 0.8380 - val_loss: 0.3738 - learning_rate: 5.0000e-04\n",
            "Epoch 26/50\n",
            "\u001b[1m1368/1368\u001b[0m \u001b[32m━━━━━━━━━━━━━━━━━━━━\u001b[0m\u001b[37m\u001b[0m \u001b[1m9s\u001b[0m 4ms/step - accuracy: 0.8357 - loss: 0.3825 - val_accuracy: 0.8368 - val_loss: 0.3752 - learning_rate: 5.0000e-04\n",
            "Epoch 27/50\n",
            "\u001b[1m1368/1368\u001b[0m \u001b[32m━━━━━━━━━━━━━━━━━━━━\u001b[0m\u001b[37m\u001b[0m \u001b[1m6s\u001b[0m 4ms/step - accuracy: 0.8356 - loss: 0.3810 - val_accuracy: 0.8373 - val_loss: 0.3747 - learning_rate: 5.0000e-04\n",
            "Epoch 28/50\n",
            "\u001b[1m1368/1368\u001b[0m \u001b[32m━━━━━━━━━━━━━━━━━━━━\u001b[0m\u001b[37m\u001b[0m \u001b[1m10s\u001b[0m 4ms/step - accuracy: 0.8346 - loss: 0.3819 - val_accuracy: 0.8376 - val_loss: 0.3732 - learning_rate: 5.0000e-04\n",
            "Epoch 29/50\n",
            "\u001b[1m1368/1368\u001b[0m \u001b[32m━━━━━━━━━━━━━━━━━━━━\u001b[0m\u001b[37m\u001b[0m \u001b[1m5s\u001b[0m 4ms/step - accuracy: 0.8356 - loss: 0.3819 - val_accuracy: 0.8372 - val_loss: 0.3729 - learning_rate: 5.0000e-04\n",
            "Epoch 30/50\n",
            "\u001b[1m1368/1368\u001b[0m \u001b[32m━━━━━━━━━━━━━━━━━━━━\u001b[0m\u001b[37m\u001b[0m \u001b[1m5s\u001b[0m 3ms/step - accuracy: 0.8373 - loss: 0.3781 - val_accuracy: 0.8370 - val_loss: 0.3735 - learning_rate: 5.0000e-04\n",
            "Epoch 31/50\n",
            "\u001b[1m1368/1368\u001b[0m \u001b[32m━━━━━━━━━━━━━━━━━━━━\u001b[0m\u001b[37m\u001b[0m \u001b[1m6s\u001b[0m 4ms/step - accuracy: 0.8363 - loss: 0.3797 - val_accuracy: 0.8387 - val_loss: 0.3727 - learning_rate: 5.0000e-04\n",
            "Epoch 32/50\n",
            "\u001b[1m1368/1368\u001b[0m \u001b[32m━━━━━━━━━━━━━━━━━━━━\u001b[0m\u001b[37m\u001b[0m \u001b[1m4s\u001b[0m 3ms/step - accuracy: 0.8362 - loss: 0.3789 - val_accuracy: 0.8375 - val_loss: 0.3731 - learning_rate: 5.0000e-04\n",
            "Epoch 33/50\n",
            "\u001b[1m1368/1368\u001b[0m \u001b[32m━━━━━━━━━━━━━━━━━━━━\u001b[0m\u001b[37m\u001b[0m \u001b[1m5s\u001b[0m 3ms/step - accuracy: 0.8376 - loss: 0.3777 - val_accuracy: 0.8372 - val_loss: 0.3728 - learning_rate: 5.0000e-04\n",
            "Epoch 34/50\n",
            "\u001b[1m1368/1368\u001b[0m \u001b[32m━━━━━━━━━━━━━━━━━━━━\u001b[0m\u001b[37m\u001b[0m \u001b[1m6s\u001b[0m 4ms/step - accuracy: 0.8382 - loss: 0.3767 - val_accuracy: 0.8372 - val_loss: 0.3733 - learning_rate: 5.0000e-04\n",
            "Epoch 35/50\n",
            "\u001b[1m1368/1368\u001b[0m \u001b[32m━━━━━━━━━━━━━━━━━━━━\u001b[0m\u001b[37m\u001b[0m \u001b[1m5s\u001b[0m 3ms/step - accuracy: 0.8387 - loss: 0.3743 - val_accuracy: 0.8390 - val_loss: 0.3706 - learning_rate: 2.5000e-04\n",
            "Epoch 36/50\n",
            "\u001b[1m1368/1368\u001b[0m \u001b[32m━━━━━━━━━━━━━━━━━━━━\u001b[0m\u001b[37m\u001b[0m \u001b[1m6s\u001b[0m 4ms/step - accuracy: 0.8408 - loss: 0.3700 - val_accuracy: 0.8387 - val_loss: 0.3703 - learning_rate: 2.5000e-04\n",
            "Epoch 37/50\n",
            "\u001b[1m1368/1368\u001b[0m \u001b[32m━━━━━━━━━━━━━━━━━━━━\u001b[0m\u001b[37m\u001b[0m \u001b[1m5s\u001b[0m 3ms/step - accuracy: 0.8379 - loss: 0.3729 - val_accuracy: 0.8388 - val_loss: 0.3714 - learning_rate: 2.5000e-04\n",
            "Epoch 38/50\n",
            "\u001b[1m1368/1368\u001b[0m \u001b[32m━━━━━━━━━━━━━━━━━━━━\u001b[0m\u001b[37m\u001b[0m \u001b[1m4s\u001b[0m 3ms/step - accuracy: 0.8397 - loss: 0.3714 - val_accuracy: 0.8380 - val_loss: 0.3694 - learning_rate: 2.5000e-04\n",
            "Epoch 39/50\n",
            "\u001b[1m1368/1368\u001b[0m \u001b[32m━━━━━━━━━━━━━━━━━━━━\u001b[0m\u001b[37m\u001b[0m \u001b[1m6s\u001b[0m 4ms/step - accuracy: 0.8396 - loss: 0.3717 - val_accuracy: 0.8379 - val_loss: 0.3692 - learning_rate: 2.5000e-04\n",
            "Epoch 40/50\n",
            "\u001b[1m1368/1368\u001b[0m \u001b[32m━━━━━━━━━━━━━━━━━━━━\u001b[0m\u001b[37m\u001b[0m \u001b[1m4s\u001b[0m 3ms/step - accuracy: 0.8404 - loss: 0.3684 - val_accuracy: 0.8389 - val_loss: 0.3697 - learning_rate: 2.5000e-04\n",
            "Epoch 41/50\n",
            "\u001b[1m1368/1368\u001b[0m \u001b[32m━━━━━━━━━━━━━━━━━━━━\u001b[0m\u001b[37m\u001b[0m \u001b[1m6s\u001b[0m 4ms/step - accuracy: 0.8391 - loss: 0.3707 - val_accuracy: 0.8376 - val_loss: 0.3686 - learning_rate: 2.5000e-04\n",
            "Epoch 42/50\n",
            "\u001b[1m1368/1368\u001b[0m \u001b[32m━━━━━━━━━━━━━━━━━━━━\u001b[0m\u001b[37m\u001b[0m \u001b[1m6s\u001b[0m 4ms/step - accuracy: 0.8426 - loss: 0.3672 - val_accuracy: 0.8380 - val_loss: 0.3709 - learning_rate: 2.5000e-04\n",
            "Epoch 43/50\n",
            "\u001b[1m1368/1368\u001b[0m \u001b[32m━━━━━━━━━━━━━━━━━━━━\u001b[0m\u001b[37m\u001b[0m \u001b[1m10s\u001b[0m 4ms/step - accuracy: 0.8423 - loss: 0.3662 - val_accuracy: 0.8391 - val_loss: 0.3695 - learning_rate: 2.5000e-04\n",
            "Epoch 44/50\n",
            "\u001b[1m1368/1368\u001b[0m \u001b[32m━━━━━━━━━━━━━━━━━━━━\u001b[0m\u001b[37m\u001b[0m \u001b[1m10s\u001b[0m 3ms/step - accuracy: 0.8404 - loss: 0.3704 - val_accuracy: 0.8383 - val_loss: 0.3702 - learning_rate: 2.5000e-04\n",
            "Epoch 45/50\n",
            "\u001b[1m1368/1368\u001b[0m \u001b[32m━━━━━━━━━━━━━━━━━━━━\u001b[0m\u001b[37m\u001b[0m \u001b[1m6s\u001b[0m 4ms/step - accuracy: 0.8406 - loss: 0.3671 - val_accuracy: 0.8394 - val_loss: 0.3694 - learning_rate: 1.2500e-04\n",
            "Epoch 46/50\n",
            "\u001b[1m1368/1368\u001b[0m \u001b[32m━━━━━━━━━━━━━━━━━━━━\u001b[0m\u001b[37m\u001b[0m \u001b[1m4s\u001b[0m 3ms/step - accuracy: 0.8419 - loss: 0.3667 - val_accuracy: 0.8385 - val_loss: 0.3687 - learning_rate: 1.2500e-04\n",
            "Epoch 47/50\n",
            "\u001b[1m1368/1368\u001b[0m \u001b[32m━━━━━━━━━━━━━━━━━━━━\u001b[0m\u001b[37m\u001b[0m \u001b[1m6s\u001b[0m 4ms/step - accuracy: 0.8419 - loss: 0.3648 - val_accuracy: 0.8393 - val_loss: 0.3679 - learning_rate: 1.2500e-04\n",
            "Epoch 48/50\n",
            "\u001b[1m1368/1368\u001b[0m \u001b[32m━━━━━━━━━━━━━━━━━━━━\u001b[0m\u001b[37m\u001b[0m \u001b[1m10s\u001b[0m 3ms/step - accuracy: 0.8414 - loss: 0.3655 - val_accuracy: 0.8394 - val_loss: 0.3672 - learning_rate: 1.2500e-04\n",
            "Epoch 49/50\n",
            "\u001b[1m1368/1368\u001b[0m \u001b[32m━━━━━━━━━━━━━━━━━━━━\u001b[0m\u001b[37m\u001b[0m \u001b[1m6s\u001b[0m 4ms/step - accuracy: 0.8413 - loss: 0.3649 - val_accuracy: 0.8390 - val_loss: 0.3674 - learning_rate: 1.2500e-04\n",
            "Epoch 50/50\n",
            "\u001b[1m1368/1368\u001b[0m \u001b[32m━━━━━━━━━━━━━━━━━━━━\u001b[0m\u001b[37m\u001b[0m \u001b[1m5s\u001b[0m 4ms/step - accuracy: 0.8414 - loss: 0.3653 - val_accuracy: 0.8396 - val_loss: 0.3678 - learning_rate: 1.2500e-04\n"
          ]
        }
      ]
    },
    {
      "cell_type": "markdown",
      "source": [
        "##  Model Evolution Summary\n",
        "\n",
        "This section highlights how our model improved over time as we tuned and tested different techniques.\n",
        "\n",
        "---\n",
        "\n",
        "###  First Model  \n",
        "- **Structure:** Simple 2–3 layer network with ReLU and default settings  \n",
        "- **Learning Rate:** 0.001  \n",
        "- **Accuracy:** ~82.2% (val)  \n",
        "- **Notes:** Good starting point, but room to grow\n",
        "\n",
        "---\n",
        "\n",
        "###  Fine-Tuned Model v1  \n",
        "- **What Changed:**  \n",
        "  - Added more layers and neurons  \n",
        "  - Lowered learning rate to 0.0005  \n",
        "  - Introduced dropout and batch normalization  \n",
        "\n",
        "- **Accuracy:** ~83.7%  \n",
        "- **Effect:** Helped stabilize training, reduced overfitting\n",
        "\n",
        "---\n",
        "\n",
        "###  Fine-Tuned Model v2  \n",
        "- **What Changed:**  \n",
        "  - Slightly reduced dropout in deeper layers  \n",
        "  - Switched activation to LeakyReLU  \n",
        "  - Increased batch size to 128  \n",
        "\n",
        "- **Accuracy:** ~83.9%  \n",
        "- **Effect:** Allowed model to learn finer patterns and converged more smoothly\n",
        "\n",
        "---\n",
        "\n",
        "###  Final Model (Advanced)  \n",
        "- **What Changed:**  \n",
        "  - Added weight regularization (L2)  \n",
        "  - Used Swish activation in mid-layer  \n",
        "  - Swapped batch norm for layer norm  \n",
        "\n",
        "- **Accuracy:** **83.96%**  \n",
        "- **Val Loss:** **0.3672**  \n",
        "- **Effect:** Boosted consistency and helped generalization  \n",
        "\n",
        "---\n",
        "\n",
        "###  Overall Progress  \n",
        "From a basic architecture to a fine-tuned, high-performing model — each step brought controlled improvements in accuracy and training stability."
      ],
      "metadata": {
        "id": "FIr0oLxFpdZp"
      }
    },
    {
      "cell_type": "markdown",
      "source": [
        "# Step:9 Model Evaluation"
      ],
      "metadata": {
        "id": "hilPIuAzWA4I"
      }
    },
    {
      "cell_type": "code",
      "source": [
        "import matplotlib.pyplot as plt\n",
        "\n",
        "# Plot training vs validation accuracy\n",
        "plt.figure(figsize=(12, 5))\n",
        "\n",
        "plt.subplot(1, 2, 1)\n",
        "plt.plot(history.history['accuracy'], label='Train Accuracy', linewidth=2)\n",
        "plt.plot(history.history['val_accuracy'], label='Validation Accuracy', linewidth=2)\n",
        "plt.xlabel('Epochs')\n",
        "plt.ylabel('Accuracy')\n",
        "plt.title('Accuracy Over Epochs')\n",
        "plt.legend()\n",
        "\n",
        "# Plot training vs validation loss\n",
        "plt.subplot(1, 2, 2)\n",
        "plt.plot(history.history['loss'], label='Train Loss', linewidth=2)\n",
        "plt.plot(history.history['val_loss'], label='Validation Loss', linewidth=2)\n",
        "plt.xlabel('Epochs')\n",
        "plt.ylabel('Loss')\n",
        "plt.title('Loss Over Epochs')\n",
        "plt.legend()\n",
        "\n",
        "plt.tight_layout()\n",
        "plt.show()"
      ],
      "metadata": {
        "colab": {
          "base_uri": "https://localhost:8080/",
          "height": 507
        },
        "id": "DsRkIRBdWAhp",
        "outputId": "6724bd62-e667-45ac-be94-f0bbe014915f"
      },
      "execution_count": 45,
      "outputs": [
        {
          "output_type": "display_data",
          "data": {
            "text/plain": [
              "<Figure size 1200x500 with 2 Axes>"
            ],
            "image/png": "[encoded data removed]"
          },
          "metadata": {}
        }
      ]
    },
    {
      "cell_type": "markdown",
      "source": [
        "##  Accuracy & Loss over Epochs\n",
        "\n",
        "These two plots track how the model performed during training and validation.\n",
        "\n",
        "---\n",
        "\n",
        "###  Accuracy Over Epochs\n",
        "- Both training and validation accuracy increased steadily and plateaued around **epoch 20**.\n",
        "- Final validation accuracy reached nearly **84%**, showing strong generalization.\n",
        "\n",
        " The model consistently improved without major dips — a healthy learning process.\n",
        "\n",
        "---\n",
        "\n",
        "###  Loss Over Epochs\n",
        "- Training and validation loss decreased smoothly.\n",
        "- Validation loss stayed slightly below training loss, ending around **0.36–0.37**.\n",
        "\n",
        " No signs of overfitting — both curves follow similar paths with no major spikes.\n",
        "\n",
        "---\n",
        "\n",
        "###  Takeaway\n",
        "Performance is balanced and stable. The model learned well and generalizes reliably to unseen data."
      ],
      "metadata": {
        "id": "hHqbTJkbqk4A"
      }
    },
    {
      "cell_type": "code",
      "source": [
        "# Evaluate model on test data\n",
        "test_loss, test_accuracy = model.evaluate(X_test, y_test, verbose=0)\n",
        "print(f\"Test Accuracy: {test_accuracy:.4f}\")"
      ],
      "metadata": {
        "colab": {
          "base_uri": "https://localhost:8080/"
        },
        "id": "1VCbHCEVWEgx",
        "outputId": "a2cc79cc-75fc-40b8-97b5-3058f7b9dbbd"
      },
      "execution_count": 46,
      "outputs": [
        {
          "output_type": "stream",
          "name": "stdout",
          "text": [
            "Test Accuracy: 0.8401\n"
          ]
        }
      ]
    },
    {
      "cell_type": "code",
      "source": [
        "from sklearn.metrics import confusion_matrix, ConfusionMatrixDisplay\n",
        "import seaborn as sns\n",
        "import matplotlib.pyplot as plt\n",
        "\n",
        "# Generate predictions\n",
        "y_pred = (model.predict(X_test) > 0.5).astype(\"int32\")\n",
        "\n",
        "# Compute confusion matrix\n",
        "cm = confusion_matrix(y_test, y_pred)\n",
        "\n",
        "# Plot heatmap\n",
        "plt.figure(figsize=(6, 5))\n",
        "sns.heatmap(cm, annot=True, fmt='d', cmap='Blues', xticklabels=['Background (0)', 'Signal (1)'], yticklabels=['Background (0)', 'Signal (1)'])\n",
        "plt.xlabel('Predicted')\n",
        "plt.ylabel('Actual')\n",
        "plt.title('Confusion Matrix')\n",
        "plt.show()"
      ],
      "metadata": {
        "colab": {
          "base_uri": "https://localhost:8080/",
          "height": 505
        },
        "id": "w7MM__cgWKuY",
        "outputId": "fce232d1-8030-4e31-d820-56bd788c32f1"
      },
      "execution_count": 48,
      "outputs": [
        {
          "output_type": "stream",
          "name": "stdout",
          "text": [
            "\u001b[1m1172/1172\u001b[0m \u001b[32m━━━━━━━━━━━━━━━━━━━━\u001b[0m\u001b[37m\u001b[0m \u001b[1m3s\u001b[0m 3ms/step\n"
          ]
        },
        {
          "output_type": "display_data",
          "data": {
            "text/plain": [
              "<Figure size 600x500 with 2 Axes>"
            ],
            "image/png": "[encoded data removed]"
          },
          "metadata": {}
        }
      ]
    },
    {
      "cell_type": "markdown",
      "source": [
        "##  Confusion Matrix Interpretation\n",
        "\n",
        "The confusion matrix shows how well the model classified each class:\n",
        "\n",
        "- **True Negatives (Background → Background):** 22,436  \n",
        "- **False Positives (Background → Signal):** 2,459  \n",
        "- **False Negatives (Signal → Background):** 3,538  \n",
        "- **True Positives (Signal → Signal):** 9,067\n",
        "\n",
        "---\n",
        "\n",
        "###  What It Means:\n",
        "- Most background and signal examples were predicted correctly.\n",
        "- Slightly more signal cases were missed (FN > FP), suggesting a bit of caution from the model when predicting signal class.\n",
        "\n",
        " Overall: The model is reliable and consistent across both classes, with solid separation and low misclassification rates."
      ],
      "metadata": {
        "id": "sDuLgrI_q5Le"
      }
    },
    {
      "cell_type": "code",
      "source": [
        "from sklearn.metrics import roc_curve, auc\n",
        "\n",
        "y_prob = model.predict(X_test).ravel()\n",
        "fpr, tpr, _ = roc_curve(y_test, y_prob)\n",
        "roc_auc = auc(fpr, tpr)\n",
        "\n",
        "plt.figure(figsize=(6, 5))\n",
        "plt.plot(fpr, tpr, label=f'AUC = {roc_auc:.3f}')\n",
        "plt.plot([0, 1], [0, 1], linestyle='--', color='gray')\n",
        "plt.xlabel('False Positive Rate')\n",
        "plt.ylabel('True Positive Rate')\n",
        "plt.title('ROC Curve')\n",
        "plt.legend()\n",
        "plt.show()"
      ],
      "metadata": {
        "colab": {
          "base_uri": "https://localhost:8080/",
          "height": 505
        },
        "id": "8bm553CzWR6Z",
        "outputId": "66ca50f4-315c-4a9f-daa8-fa110ef90723"
      },
      "execution_count": 49,
      "outputs": [
        {
          "output_type": "stream",
          "name": "stdout",
          "text": [
            "\u001b[1m1172/1172\u001b[0m \u001b[32m━━━━━━━━━━━━━━━━━━━━\u001b[0m\u001b[37m\u001b[0m \u001b[1m1s\u001b[0m 1ms/step\n"
          ]
        },
        {
          "output_type": "display_data",
          "data": {
            "text/plain": [
              "<Figure size 600x500 with 1 Axes>"
            ],
            "image/png": "[encoded data removed]"
          },
          "metadata": {}
        }
      ]
    },
    {
      "cell_type": "markdown",
      "source": [
        "##  ROC Curve Interpretation\n",
        "\n",
        "This curve shows how well the model separates the two classes (background and signal):\n",
        "\n",
        "- **AUC Score:** 0.908 — a strong indicator of high model performance  \n",
        "- **Curve Shape:** The ROC curve hugs the top-left corner, which means high true positive rate and low false positive rate  \n",
        "- **Baseline (dashed line):** Represents random guessing; our model performs much better\n",
        "\n",
        " The high AUC confirms that the model makes confident, well-separated predictions — it distinguishes background from signal with strong reliability."
      ],
      "metadata": {
        "id": "Sc1rzpKIrIra"
      }
    }
  ]
}